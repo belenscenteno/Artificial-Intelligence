{
 "cells": [
  {
   "cell_type": "markdown",
   "metadata": {},
   "source": [
    "# Práctica 1.A Toma de contacto con AIMA"
   ]
  },
  {
   "cell_type": "markdown",
   "metadata": {},
   "source": [
    "##### Grupo 10: Belén Sánchez Centeno y Martín Fernández de Diego"
   ]
  },
  {
   "cell_type": "markdown",
   "metadata": {},
   "source": [
    "La práctica está organizada en 3 partes. En la primera se muestra a través de ejemplos cómo se **representan** algunos problemas clásicos como el de las jarras o el problema del ocho puzzle. En la segunda parte se muestra el uso de los algoritmos de búsqueda. En la tercera parte aprenderemos a medir las propiedades de los algoritmos.\n",
    "En el notebook encontraras claramente identificados los lugares en los que debes incluir código o comentarios.  \n",
    "\n",
    "Cuando termines los ejercicios entrega este archivo en el campus. "
   ]
  },
  {
   "cell_type": "markdown",
   "metadata": {},
   "source": [
    "## Parte I: Representación de problemas de espacios de estados.\n",
    "\n",
    "### El primer paso es importar el código que necesitamos de search.py de AIMA y usar la clase Problem. En esta parte en vez de importarla la hemos copiado aquí para la explicación."
   ]
  },
  {
   "cell_type": "markdown",
   "metadata": {},
   "source": [
    "Como hemos visto en clase la representación de un problema de espacio de estados consiste en:\n",
    "* Representar estados y acciones mediante una estructura de datos.\n",
    "* Definir: estado_inicial, es_estado_final(_), acciones(_), aplica(_,_) y\n",
    "  coste_de_aplicar_accion, si el problema tiene coste.\n",
    "\n",
    " La siguiente clase Problem representa este esquema general de cualquier\n",
    " problema de espacio de estados. Un problema concreto será una subclase de\n",
    " Problema, y requerirá implementar acciones, aplica y eventualmente __init__, actions,\n",
    " goal_test. La función coste_de_aplicar_accion la hemos incluido nosotros."
   ]
  },
  {
   "cell_type": "code",
   "execution_count": 1,
   "metadata": {},
   "outputs": [],
   "source": [
    "   class Problem(object):\n",
    "\n",
    "    \"\"\"The abstract class for a formal problem. You should subclass\n",
    "    this and implement the methods actions and result, and possibly\n",
    "    __init__, goal_test, and path_cost. Then you will create instances\n",
    "    of your subclass and solve them with the various search functions.\"\"\"\n",
    "\n",
    "    def __init__(self, initial, goal=None):\n",
    "        \"\"\"The constructor specifies the initial state, and possibly a goal\n",
    "        state, if there is a unique goal. Your subclass's constructor can add\n",
    "        other arguments.\"\"\"\n",
    "        self.initial = initial\n",
    "        self.goal = goal\n",
    "\n",
    "    def actions(self, state):\n",
    "        \"\"\"Return the actions that can be executed in the given\n",
    "        state. The result would typically be a list, but if there are\n",
    "        many actions, consider yielding them one at a time in an\n",
    "        iterator, rather than building them all at once.\"\"\"\n",
    "        raise NotImplementedError\n",
    "\n",
    "    def result(self, state, action):\n",
    "        \"\"\"Return the state that results from executing the given\n",
    "        action in the given state. The action must be one of\n",
    "        self.actions(state).\"\"\"\n",
    "        raise NotImplementedError\n",
    "\n",
    "    def goal_test(self, state):\n",
    "        \"\"\"Return True if the state is a goal. The default method compares the\n",
    "        state to self.goal or checks for state in self.goal if it is a\n",
    "        list, as specified in the constructor. Override this method if\n",
    "        checking against a single self.goal is not enough.\"\"\"\n",
    "        if isinstance(self.goal, list):\n",
    "            return is_in(state, self.goal)\n",
    "        else:\n",
    "            return state == self.goal\n",
    "\n",
    "    def path_cost(self, c, state1, action, state2):\n",
    "        \"\"\"Return the cost of a solution path that arrives at state2 from\n",
    "        state1 via action, assuming cost c to get up to state1. If the problem\n",
    "        is such that the path doesn't matter, this function will only look at\n",
    "        state2.  If the path does matter, it will consider c and maybe state1\n",
    "        and action. The default method costs 1 for every step in the path.\"\"\"\n",
    "        return c + 1\n",
    "\n",
    "    def value(self, state):\n",
    "        \"\"\"For optimization problems, each state has a value.  Hill-climbing\n",
    "        and related algorithms try to maximize this value.\"\"\"\n",
    "        raise NotImplementedError\n",
    "\n",
    "    def coste_de_aplicar_accion(self, estado, accion):\n",
    "        \"\"\"Hemos incluido está función que devuelve el coste de un único operador (aplicar accion a estado). Por defecto, este\n",
    "        coste es 1. Reimplementar si el problema define otro coste \"\"\" \n",
    "        return 1"
   ]
  },
  {
   "cell_type": "markdown",
   "metadata": {},
   "source": [
    "Ahora vamos a ver un ejemplo de cómo definir un problema como subclase\n",
    "de problema. En concreto, el problema de las jarras, visto en clase que es muy sencillo. "
   ]
  },
  {
   "cell_type": "code",
   "execution_count": 2,
   "metadata": {},
   "outputs": [],
   "source": [
    "class Jarras(Problem):\n",
    "    \"\"\"Problema de las jarras:\n",
    "    Representaremos los estados como tuplas (x,y) de dos números enteros,\n",
    "    donde x es el número de litros de la jarra de 4 e y es el número de litros\n",
    "    de la jarra de 3\"\"\"\n",
    "\n",
    "    def __init__(self):\n",
    "        self.initial = (0,0)\n",
    "\n",
    "    def actions(self,estado):\n",
    "        jarra_de_4=estado[0]\n",
    "        jarra_de_3=estado[1]\n",
    "        accs=list()\n",
    "        if jarra_de_4 > 0:\n",
    "            accs.append(\"vaciar jarra de 4\")\n",
    "            if jarra_de_3 < 3:\n",
    "                accs.append(\"trasvasar de jarra de 4 a jarra de 3\")\n",
    "        if jarra_de_4 < 4:\n",
    "            accs.append(\"llenar jarra de 4\")\n",
    "            if jarra_de_3 > 0:\n",
    "                accs.append(\"trasvasar de jarra de 3 a jarra de 4\")\n",
    "        if jarra_de_3 > 0:\n",
    "            accs.append(\"vaciar jarra de 3\")\n",
    "        if jarra_de_3 < 3:\n",
    "            accs.append(\"llenar jarra de 3\")\n",
    "        return accs\n",
    "\n",
    "    def result(self,estado,accion):\n",
    "        j4=estado[0]\n",
    "        j3=estado[1]\n",
    "        if accion==\"llenar jarra de 4\":\n",
    "            return (4,j3)\n",
    "        elif accion==\"llenar jarra de 3\":\n",
    "            return (j4,3)\n",
    "        elif accion==\"vaciar jarra de 4\":\n",
    "            return (0,j3)\n",
    "        elif accion==\"vaciar jarra de 3\":\n",
    "            return (j4,0)\n",
    "        elif accion==\"trasvasar de jarra de 4 a jarra de 3\":\n",
    "            return (j4-3+j3,3) if j3+j4 >= 3 else (0,j3+j4)\n",
    "        else: #  \"trasvasar de jarra de 3 a jarra de 4\"\n",
    "            return (j3+j4,0) if j3+j4 <= 4 else (4,j3-4+j4)\n",
    "\n",
    "    def goal_test(self,estado):\n",
    "        return estado[0]==2\n"
   ]
  },
  {
   "cell_type": "markdown",
   "metadata": {},
   "source": [
    "Vamos a probar algunos ejemplos."
   ]
  },
  {
   "cell_type": "code",
   "execution_count": 3,
   "metadata": {},
   "outputs": [
    {
     "data": {
      "text/plain": [
       "(0, 0)"
      ]
     },
     "execution_count": 3,
     "metadata": {},
     "output_type": "execute_result"
    }
   ],
   "source": [
    "p = Jarras()\n",
    "p.initial"
   ]
  },
  {
   "cell_type": "code",
   "execution_count": 4,
   "metadata": {},
   "outputs": [
    {
     "data": {
      "text/plain": [
       "['llenar jarra de 4', 'llenar jarra de 3']"
      ]
     },
     "execution_count": 4,
     "metadata": {},
     "output_type": "execute_result"
    }
   ],
   "source": [
    "p.actions(p.initial)"
   ]
  },
  {
   "cell_type": "code",
   "execution_count": 5,
   "metadata": {},
   "outputs": [
    {
     "data": {
      "text/plain": [
       "(4, 0)"
      ]
     },
     "execution_count": 5,
     "metadata": {},
     "output_type": "execute_result"
    }
   ],
   "source": [
    "p.result(p.initial,\"llenar jarra de 4\")"
   ]
  },
  {
   "cell_type": "code",
   "execution_count": 6,
   "metadata": {},
   "outputs": [
    {
     "data": {
      "text/plain": [
       "1"
      ]
     },
     "execution_count": 6,
     "metadata": {},
     "output_type": "execute_result"
    }
   ],
   "source": [
    "p.coste_de_aplicar_accion(p.initial,\"llenar jarra de 4\")"
   ]
  },
  {
   "cell_type": "code",
   "execution_count": 7,
   "metadata": {},
   "outputs": [
    {
     "data": {
      "text/plain": [
       "False"
      ]
     },
     "execution_count": 7,
     "metadata": {},
     "output_type": "execute_result"
    }
   ],
   "source": [
    "p.goal_test(p.initial)"
   ]
  },
  {
   "cell_type": "markdown",
   "metadata": {},
   "source": [
    "### Problema de los misioneros"
   ]
  },
  {
   "cell_type": "code",
   "execution_count": 8,
   "metadata": {},
   "outputs": [],
   "source": [
    "# Creamos la clase ProblemaMisioneros con los elementos que representarán el problema. \n",
    "class ProblemaMisioneros(Problem):\n",
    "    ''' Clase problema (formalizacion de nuestro problema) siguiendo la\n",
    "        estructura que aima espera que tengan los problemas.'''\n",
    "    def __init__(self, initial, goal=None):\n",
    "        '''Inicializacion de nuestro problema.'''\n",
    "        Problem.__init__(self, initial, goal)\n",
    "        # cada accion tiene un texto para identificar al operador y despues una tupla de dos elementos con la\n",
    "        # cantidad de misioneros y canibales que se mueven en la canoa\n",
    "        self._actions = [('1c', (0, 1)), ('1m', (1, 0)), ('2c', (0, 2)), ('2m', (2, 0)), ('1m1c', (1, 1))]\n",
    "\n",
    "    def actions(self, s):\n",
    "        '''Devuelve las acciones validas para un estado.'''\n",
    "        # las acciones validas para un estado son aquellas que al aplicarse\n",
    "        # nos dejan en otro estado valido\n",
    "        return [a for a in self._actions if self._is_valid(self.result(s, a))]\n",
    "\n",
    "    def _is_valid(self, s):\n",
    "        '''Determina si un estado es valido o no.'''\n",
    "        # un estado es valido si no hay mas canibales que misioneros en ninguna\n",
    "        # orilla, y si las cantidades estan entre 0 y 3\n",
    "        return (s[0] >= s[1] or s[0] == 0) and ((3 - s[0]) >= (3 - s[1]) or s[0] == 3) and (0 <= s[0] <= 3) and (0 <= s[1] <= 3)\n",
    "\n",
    "    def result(self, s, a):\n",
    "        '''Devuelve el estado resultante de aplicar una accion a un estado\n",
    "           determinado.'''\n",
    "        # el estado resultante tiene la canoa en el lado opuesto, y con las\n",
    "        # cantidades de misioneros y canibales actualizadas segun la cantidad\n",
    "        # que viajaron en la canoa\n",
    "        if s[2] == 0:\n",
    "            return (s[0] - a[1][0], s[1] - a[1][1], 1)\n",
    "        else:\n",
    "            return (s[0] + a[1][0], s[1] + a[1][1], 0)\n",
    "\n"
   ]
  },
  {
   "cell_type": "code",
   "execution_count": 9,
   "metadata": {},
   "outputs": [],
   "source": [
    "# creamos un problema a partir de nuestra formalizacion de ProblemaMisioneros\n",
    "# como parametros le pasamos el estado inicial, y el estado objetivo que esperamos\n",
    "misioneros = ProblemaMisioneros((3, 3, 0), (0, 0, 1))\n",
    "\n",
    "# Asegurate de que entiendes la formalización del problema y haz algunas pruebas con la representación del problema de los misioneros. \n",
    "# En la siguiente parte vamos a usar las implementaciones de los algoritmos de búsqueda de AIMA para \n",
    "# resolver los problemas que hemos representado. Por ejemplo, para resolver el problema de los misioneros con \n",
    "# el método de busqueda en anchura la llamada sería:  breadth_first_tree_search(estado).solution()"
   ]
  },
  {
   "cell_type": "code",
   "execution_count": 10,
   "metadata": {},
   "outputs": [
    {
     "data": {
      "text/plain": [
       "(3, 3, 0)"
      ]
     },
     "execution_count": 10,
     "metadata": {},
     "output_type": "execute_result"
    }
   ],
   "source": [
    "misioneros.initial"
   ]
  },
  {
   "cell_type": "code",
   "execution_count": 11,
   "metadata": {},
   "outputs": [
    {
     "data": {
      "text/plain": [
       "[('1c', (0, 1)), ('2c', (0, 2)), ('1m1c', (1, 1))]"
      ]
     },
     "execution_count": 11,
     "metadata": {},
     "output_type": "execute_result"
    }
   ],
   "source": [
    "misioneros.actions(misioneros.initial)"
   ]
  },
  {
   "cell_type": "markdown",
   "metadata": {},
   "source": [
    "### Representación del problema del puzzle de 8"
   ]
  },
  {
   "cell_type": "markdown",
   "metadata": {},
   "source": [
    "Vamos a definir la clase Ocho_Puzzle, que implementa la representación del problema del 8-puzzle visto en clase. \n",
    "Se os proporciona una versión incompleta y tendréis que completar el código que se presenta a continuación, en los lugares marcados con interrogantes."
   ]
  },
  {
   "cell_type": "markdown",
   "metadata": {},
   "source": [
    "### 8 Puzzle \n",
    "\n",
    "Tablero 3x3 cuyo objetivo es mover la configuración de las piezas desde un estado inicial dado a un estado objetivo moviendo las fichas al espacio en blanco. \n",
    "\n",
    "ejemplo:- \n",
    "\n",
    "                  Inicial                             Goal \n",
    "              | 7 | 2 | 4 |                       | 1 | 2 | 3 |\n",
    "              | 5 | 0 | 6 |                       | 4 | 5 | 6 |\n",
    "              | 8 | 3 | 1 |                       | 7 | 8 | 0 |\n",
    "              \n",
    "Hay 9! configuraciones iniciales pero ojo! porque no todas tienen solución. **Tenlo en cuenta al hacer las pruebas**. "
   ]
  },
  {
   "cell_type": "markdown",
   "metadata": {},
   "source": [
    "### EJERCICIO 1. Completa la definición de los operadores en el problema del Puzle de 8. "
   ]
  },
  {
   "cell_type": "code",
   "execution_count": 12,
   "metadata": {},
   "outputs": [],
   "source": [
    "class Ocho_Puzzle(Problem):\n",
    "    \"\"\"Problema a del 8-puzzle.  Los estados serán tuplas de nueve elementos,\n",
    "    permutaciones de los números del 0 al 8 (el 0 es el hueco). Representan la\n",
    "    disposición de las fichas en el tablero, leídas por filas de arriba a\n",
    "    abajo, y dentro de cada fila, de izquierda a derecha. Las cuatro\n",
    "    acciones del problema las representaremos mediante las cadenas:\n",
    "    \"Mover hueco arriba\", \"Mover hueco abajo\", \"Mover hueco izquierda\" y\n",
    "    \"Mover hueco derecha\", respectivamente.\"\"\"\"\"\n",
    "\n",
    "    def __init__(self, initial, goal=(1, 2, 3, 4, 5, 6, 7, 8, 0)):\n",
    "        \"\"\" Define goal state and initialize a problem \"\"\"\n",
    "        self.goal = goal\n",
    "        Problem.__init__(self, initial, goal)\n",
    "    \n",
    "    ### EJERCICIO 1.1. COMPLETA LA DEFINICIÓN DE LOS OPERADORES. \n",
    "    def actions(self,estado):\n",
    "        pos_hueco=estado.index(0) # busco la posicion del 0\n",
    "        accs=list()\n",
    "        if pos_hueco not in (0,1,2):\n",
    "            accs.append(\"Mover hueco arriba\")\n",
    "        if pos_hueco not in (6,7,8):\n",
    "            accs.append(\"Mover hueco abajo\")\n",
    "        if pos_hueco not in (0,3,6):\n",
    "            accs.append(\"Mover hueco izquierda\")\n",
    "        if pos_hueco not in (2,5,8):\n",
    "            accs.append(\"Mover hueco derecha\")\n",
    "        return accs     \n",
    "\n",
    "    ### EJERCICIO 1.2. COMPLETA LA DEFINICIÓN DE LOS OPERADORES.\n",
    "    def result(self,estado,accion):\n",
    "        pos_hueco = estado.index(0)\n",
    "        l = list(estado)\n",
    "        if accion == \"Mover hueco arriba\":\n",
    "            l[pos_hueco] = l[pos_hueco-3]\n",
    "            l[pos_hueco-3] = 0\n",
    "        elif accion == \"Mover hueco abajo\":\n",
    "            l[pos_hueco] = l[pos_hueco+3]\n",
    "            l[pos_hueco+3] = 0\n",
    "        elif accion == \"Mover hueco izquierda\":\n",
    "            l[pos_hueco] = l[pos_hueco-1]\n",
    "            l[pos_hueco-1] = 0\n",
    "        else:\n",
    "            l[pos_hueco] = l[pos_hueco+1]\n",
    "            l[pos_hueco+1] = 0\n",
    "        return tuple(l)\n",
    "    \n",
    "    def h(self, node):\n",
    "        \"Return the heuristic value for a given state.\"\n",
    "        return 1"
   ]
  },
  {
   "cell_type": "markdown",
   "metadata": {},
   "source": [
    "#### Una vez completada la definición de la clase podrás probar los siguientes ejemplos."
   ]
  },
  {
   "cell_type": "code",
   "execution_count": 13,
   "metadata": {},
   "outputs": [
    {
     "data": {
      "text/plain": [
       "(2, 8, 3, 1, 6, 4, 7, 0, 5)"
      ]
     },
     "execution_count": 13,
     "metadata": {},
     "output_type": "execute_result"
    }
   ],
   "source": [
    "p8 = Ocho_Puzzle((2, 8, 3, 1, 6, 4, 7, 0, 5))\n",
    "p8.initial"
   ]
  },
  {
   "cell_type": "code",
   "execution_count": 14,
   "metadata": {},
   "outputs": [
    {
     "data": {
      "text/plain": [
       "['Mover hueco arriba', 'Mover hueco izquierda', 'Mover hueco derecha']"
      ]
     },
     "execution_count": 14,
     "metadata": {},
     "output_type": "execute_result"
    }
   ],
   "source": [
    "p8.actions(p8.initial)\n",
    "#Respuesta: ['Mover hueco arriba', 'Mover hueco izquierda', 'Mover hueco derecha']"
   ]
  },
  {
   "cell_type": "code",
   "execution_count": 15,
   "metadata": {},
   "outputs": [
    {
     "data": {
      "text/plain": [
       "(2, 8, 3, 1, 0, 4, 7, 6, 5)"
      ]
     },
     "execution_count": 15,
     "metadata": {},
     "output_type": "execute_result"
    }
   ],
   "source": [
    "p8.result(p8.initial,\"Mover hueco arriba\")"
   ]
  },
  {
   "cell_type": "code",
   "execution_count": 16,
   "metadata": {},
   "outputs": [
    {
     "ename": "IndexError",
     "evalue": "list index out of range",
     "output_type": "error",
     "traceback": [
      "\u001b[0;31m---------------------------------------------------------------------------\u001b[0m",
      "\u001b[0;31mIndexError\u001b[0m                                Traceback (most recent call last)",
      "\u001b[0;32m<ipython-input-16-19de8429fe81>\u001b[0m in \u001b[0;36m<module>\u001b[0;34m\u001b[0m\n\u001b[0;32m----> 1\u001b[0;31m \u001b[0mp8\u001b[0m\u001b[0;34m.\u001b[0m\u001b[0mresult\u001b[0m\u001b[0;34m(\u001b[0m\u001b[0mp8\u001b[0m\u001b[0;34m.\u001b[0m\u001b[0minitial\u001b[0m\u001b[0;34m,\u001b[0m\u001b[0;34m\"Mover hueco abajo\"\u001b[0m\u001b[0;34m)\u001b[0m\u001b[0;34m\u001b[0m\u001b[0;34m\u001b[0m\u001b[0m\n\u001b[0m",
      "\u001b[0;32m<ipython-input-12-2f004942cc0e>\u001b[0m in \u001b[0;36mresult\u001b[0;34m(self, estado, accion)\u001b[0m\n\u001b[1;32m     35\u001b[0m             \u001b[0ml\u001b[0m\u001b[0;34m[\u001b[0m\u001b[0mpos_hueco\u001b[0m\u001b[0;34m-\u001b[0m\u001b[0;36m3\u001b[0m\u001b[0;34m]\u001b[0m \u001b[0;34m=\u001b[0m \u001b[0;36m0\u001b[0m\u001b[0;34m\u001b[0m\u001b[0;34m\u001b[0m\u001b[0m\n\u001b[1;32m     36\u001b[0m         \u001b[0;32melif\u001b[0m \u001b[0maccion\u001b[0m \u001b[0;34m==\u001b[0m \u001b[0;34m\"Mover hueco abajo\"\u001b[0m\u001b[0;34m:\u001b[0m\u001b[0;34m\u001b[0m\u001b[0;34m\u001b[0m\u001b[0m\n\u001b[0;32m---> 37\u001b[0;31m             \u001b[0ml\u001b[0m\u001b[0;34m[\u001b[0m\u001b[0mpos_hueco\u001b[0m\u001b[0;34m]\u001b[0m \u001b[0;34m=\u001b[0m \u001b[0ml\u001b[0m\u001b[0;34m[\u001b[0m\u001b[0mpos_hueco\u001b[0m\u001b[0;34m+\u001b[0m\u001b[0;36m3\u001b[0m\u001b[0;34m]\u001b[0m\u001b[0;34m\u001b[0m\u001b[0;34m\u001b[0m\u001b[0m\n\u001b[0m\u001b[1;32m     38\u001b[0m             \u001b[0ml\u001b[0m\u001b[0;34m[\u001b[0m\u001b[0mpos_hueco\u001b[0m\u001b[0;34m+\u001b[0m\u001b[0;36m3\u001b[0m\u001b[0;34m]\u001b[0m \u001b[0;34m=\u001b[0m \u001b[0;36m0\u001b[0m\u001b[0;34m\u001b[0m\u001b[0;34m\u001b[0m\u001b[0m\n\u001b[1;32m     39\u001b[0m         \u001b[0;32melif\u001b[0m \u001b[0maccion\u001b[0m \u001b[0;34m==\u001b[0m \u001b[0;34m\"Mover hueco izquierda\"\u001b[0m\u001b[0;34m:\u001b[0m\u001b[0;34m\u001b[0m\u001b[0;34m\u001b[0m\u001b[0m\n",
      "\u001b[0;31mIndexError\u001b[0m: list index out of range"
     ]
    }
   ],
   "source": [
    "p8.result(p8.initial,\"Mover hueco abajo\")"
   ]
  },
  {
   "cell_type": "code",
   "execution_count": 17,
   "metadata": {},
   "outputs": [
    {
     "data": {
      "text/plain": [
       "(2, 8, 3, 1, 6, 4, 7, 5, 0)"
      ]
     },
     "execution_count": 17,
     "metadata": {},
     "output_type": "execute_result"
    }
   ],
   "source": [
    "p8.result(p8.initial,\"Mover hueco derecha\")"
   ]
  },
  {
   "cell_type": "code",
   "execution_count": 18,
   "metadata": {},
   "outputs": [
    {
     "data": {
      "text/plain": [
       "1"
      ]
     },
     "execution_count": 18,
     "metadata": {},
     "output_type": "execute_result"
    }
   ],
   "source": [
    "p8.coste_de_aplicar_accion(p8.initial,\"Mover hueco abajo\")"
   ]
  },
  {
   "cell_type": "markdown",
   "metadata": {},
   "source": [
    "## Parte II: Experimentación con los algoritmos implementados. Ejecución de los algoritmos de búsqueda de soluciones para una instancia del Problema."
   ]
  },
  {
   "cell_type": "markdown",
   "metadata": {},
   "source": [
    "### Usaremos búsqueda en anchura y en profundidad para encontrar soluciones tanto al problema de las jarras, los misioneros y el problema del ocho puzzle con distintos estados iniciales."
   ]
  },
  {
   "cell_type": "code",
   "execution_count": 3,
   "metadata": {},
   "outputs": [
    {
     "name": "stdout",
     "output_type": "stream",
     "text": [
      "[Errno 2] No such file or directory: 'aima-python'\n",
      "/Users/martin/Documents/Cursos/2020-2021/IA/Practicas/Python/P1/aima-python\n"
     ]
    }
   ],
   "source": [
    "cd aima-python"
   ]
  },
  {
   "cell_type": "code",
   "execution_count": 20,
   "metadata": {},
   "outputs": [],
   "source": [
    "# Cargamos el módulo con los algoritmos de búsqueda.\n",
    "from search import *\n",
    "from search import breadth_first_tree_search, depth_first_tree_search, depth_first_graph_search, breadth_first_graph_search"
   ]
  },
  {
   "cell_type": "code",
   "execution_count": 21,
   "metadata": {},
   "outputs": [],
   "source": [
    "## resolvemos el problema de las jarras con el método de búsqueda en anchura.  "
   ]
  },
  {
   "cell_type": "code",
   "execution_count": 22,
   "metadata": {},
   "outputs": [
    {
     "data": {
      "text/plain": [
       "['llenar jarra de 4',\n",
       " 'trasvasar de jarra de 4 a jarra de 3',\n",
       " 'vaciar jarra de 3',\n",
       " 'trasvasar de jarra de 4 a jarra de 3',\n",
       " 'llenar jarra de 4',\n",
       " 'trasvasar de jarra de 4 a jarra de 3']"
      ]
     },
     "execution_count": 22,
     "metadata": {},
     "output_type": "execute_result"
    }
   ],
   "source": [
    "breadth_first_tree_search(Jarras()).solution()"
   ]
  },
  {
   "cell_type": "code",
   "execution_count": 23,
   "metadata": {},
   "outputs": [
    {
     "data": {
      "text/plain": [
       "['llenar jarra de 3',\n",
       " 'trasvasar de jarra de 3 a jarra de 4',\n",
       " 'llenar jarra de 3',\n",
       " 'trasvasar de jarra de 3 a jarra de 4',\n",
       " 'vaciar jarra de 4',\n",
       " 'trasvasar de jarra de 3 a jarra de 4']"
      ]
     },
     "execution_count": 23,
     "metadata": {},
     "output_type": "execute_result"
    }
   ],
   "source": [
    "depth_first_graph_search(Jarras()).solution()"
   ]
  },
  {
   "cell_type": "markdown",
   "metadata": {},
   "source": [
    "### Ejercicio 2. Prueba los algoritmos de búsqueda ciega con el problema de los misioneros y con el  puzzle de 8"
   ]
  },
  {
   "cell_type": "code",
   "execution_count": 24,
   "metadata": {},
   "outputs": [],
   "source": [
    "# Usaremos las implementaciones de los algoritmos de búsqueda de AIMA para \n",
    "# resolver los problemas que hemos representado. Por ejemplo, para resolver el problema de los misioneros con \n",
    "# el método de busqueda en anchura breadth_first_tree_search(misioneros).solution()"
   ]
  },
  {
   "cell_type": "code",
   "execution_count": 25,
   "metadata": {},
   "outputs": [
    {
     "data": {
      "text/plain": [
       "(2, 8, 3, 1, 6, 4, 7, 0, 5)"
      ]
     },
     "execution_count": 25,
     "metadata": {},
     "output_type": "execute_result"
    }
   ],
   "source": [
    "p8 = Ocho_Puzzle((2, 8, 3, 1, 6, 4, 7, 0, 5))\n",
    "p8.initial"
   ]
  },
  {
   "cell_type": "code",
   "execution_count": 26,
   "metadata": {},
   "outputs": [
    {
     "data": {
      "text/plain": [
       "(1, 2, 3, 4, 5, 6, 7, 8, 0)"
      ]
     },
     "execution_count": 26,
     "metadata": {},
     "output_type": "execute_result"
    }
   ],
   "source": [
    "p8.goal"
   ]
  },
  {
   "cell_type": "code",
   "execution_count": 27,
   "metadata": {},
   "outputs": [
    {
     "ename": "KeyboardInterrupt",
     "evalue": "",
     "output_type": "error",
     "traceback": [
      "\u001b[0;31m---------------------------------------------------------------------------\u001b[0m",
      "\u001b[0;31mKeyboardInterrupt\u001b[0m                         Traceback (most recent call last)",
      "\u001b[0;32m<ipython-input-27-4ea7547de834>\u001b[0m in \u001b[0;36m<module>\u001b[0;34m\u001b[0m\n\u001b[0;32m----> 1\u001b[0;31m \u001b[0mbreadth_first_tree_search\u001b[0m\u001b[0;34m(\u001b[0m\u001b[0mOcho_Puzzle\u001b[0m\u001b[0;34m(\u001b[0m\u001b[0;34m(\u001b[0m\u001b[0;36m2\u001b[0m\u001b[0;34m,\u001b[0m \u001b[0;36m8\u001b[0m\u001b[0;34m,\u001b[0m \u001b[0;36m3\u001b[0m\u001b[0;34m,\u001b[0m \u001b[0;36m1\u001b[0m\u001b[0;34m,\u001b[0m \u001b[0;36m6\u001b[0m\u001b[0;34m,\u001b[0m \u001b[0;36m4\u001b[0m\u001b[0;34m,\u001b[0m \u001b[0;36m7\u001b[0m\u001b[0;34m,\u001b[0m \u001b[0;36m0\u001b[0m\u001b[0;34m,\u001b[0m \u001b[0;36m5\u001b[0m\u001b[0;34m)\u001b[0m\u001b[0;34m)\u001b[0m\u001b[0;34m)\u001b[0m\u001b[0;34m.\u001b[0m\u001b[0msolution\u001b[0m\u001b[0;34m(\u001b[0m\u001b[0;34m)\u001b[0m\u001b[0;34m\u001b[0m\u001b[0;34m\u001b[0m\u001b[0m\n\u001b[0m\u001b[1;32m      2\u001b[0m \u001b[0;31m# La llamada corresponde al algoritmo de busqueda en anchura sin control de repetidos.\u001b[0m\u001b[0;34m\u001b[0m\u001b[0;34m\u001b[0m\u001b[0;34m\u001b[0m\u001b[0m\n\u001b[1;32m      3\u001b[0m \u001b[0;31m# Busqueda en anchura es completo.. ¿no debería terminar? escribe al final del ejercicio tus conclusiones.\u001b[0m\u001b[0;34m\u001b[0m\u001b[0;34m\u001b[0m\u001b[0;34m\u001b[0m\u001b[0m\n",
      "\u001b[0;32m~/Documents/Cursos/2020-2021/IA/Practicas/Python/aima-python/search.py\u001b[0m in \u001b[0;36mbreadth_first_tree_search\u001b[0;34m(problem)\u001b[0m\n\u001b[1;32m    191\u001b[0m         \u001b[0;32mif\u001b[0m \u001b[0mproblem\u001b[0m\u001b[0;34m.\u001b[0m\u001b[0mgoal_test\u001b[0m\u001b[0;34m(\u001b[0m\u001b[0mnode\u001b[0m\u001b[0;34m.\u001b[0m\u001b[0mstate\u001b[0m\u001b[0;34m)\u001b[0m\u001b[0;34m:\u001b[0m\u001b[0;34m\u001b[0m\u001b[0;34m\u001b[0m\u001b[0m\n\u001b[1;32m    192\u001b[0m             \u001b[0;32mreturn\u001b[0m \u001b[0mnode\u001b[0m\u001b[0;34m\u001b[0m\u001b[0;34m\u001b[0m\u001b[0m\n\u001b[0;32m--> 193\u001b[0;31m         \u001b[0mfrontier\u001b[0m\u001b[0;34m.\u001b[0m\u001b[0mextend\u001b[0m\u001b[0;34m(\u001b[0m\u001b[0mnode\u001b[0m\u001b[0;34m.\u001b[0m\u001b[0mexpand\u001b[0m\u001b[0;34m(\u001b[0m\u001b[0mproblem\u001b[0m\u001b[0;34m)\u001b[0m\u001b[0;34m)\u001b[0m\u001b[0;34m\u001b[0m\u001b[0;34m\u001b[0m\u001b[0m\n\u001b[0m\u001b[1;32m    194\u001b[0m     \u001b[0;32mreturn\u001b[0m \u001b[0;32mNone\u001b[0m\u001b[0;34m\u001b[0m\u001b[0;34m\u001b[0m\u001b[0m\n\u001b[1;32m    195\u001b[0m \u001b[0;34m\u001b[0m\u001b[0m\n",
      "\u001b[0;32m~/Documents/Cursos/2020-2021/IA/Practicas/Python/aima-python/search.py\u001b[0m in \u001b[0;36mexpand\u001b[0;34m(self, problem)\u001b[0m\n\u001b[1;32m     94\u001b[0m     \u001b[0;32mdef\u001b[0m \u001b[0mexpand\u001b[0m\u001b[0;34m(\u001b[0m\u001b[0mself\u001b[0m\u001b[0;34m,\u001b[0m \u001b[0mproblem\u001b[0m\u001b[0;34m)\u001b[0m\u001b[0;34m:\u001b[0m\u001b[0;34m\u001b[0m\u001b[0;34m\u001b[0m\u001b[0m\n\u001b[1;32m     95\u001b[0m         \u001b[0;34m\"\"\"List the nodes reachable in one step from this node.\"\"\"\u001b[0m\u001b[0;34m\u001b[0m\u001b[0;34m\u001b[0m\u001b[0m\n\u001b[0;32m---> 96\u001b[0;31m         return [self.child_node(problem, action)\n\u001b[0m\u001b[1;32m     97\u001b[0m                 for action in problem.actions(self.state)]\n\u001b[1;32m     98\u001b[0m \u001b[0;34m\u001b[0m\u001b[0m\n",
      "\u001b[0;32m~/Documents/Cursos/2020-2021/IA/Practicas/Python/aima-python/search.py\u001b[0m in \u001b[0;36m<listcomp>\u001b[0;34m(.0)\u001b[0m\n\u001b[1;32m     94\u001b[0m     \u001b[0;32mdef\u001b[0m \u001b[0mexpand\u001b[0m\u001b[0;34m(\u001b[0m\u001b[0mself\u001b[0m\u001b[0;34m,\u001b[0m \u001b[0mproblem\u001b[0m\u001b[0;34m)\u001b[0m\u001b[0;34m:\u001b[0m\u001b[0;34m\u001b[0m\u001b[0;34m\u001b[0m\u001b[0m\n\u001b[1;32m     95\u001b[0m         \u001b[0;34m\"\"\"List the nodes reachable in one step from this node.\"\"\"\u001b[0m\u001b[0;34m\u001b[0m\u001b[0;34m\u001b[0m\u001b[0m\n\u001b[0;32m---> 96\u001b[0;31m         return [self.child_node(problem, action)\n\u001b[0m\u001b[1;32m     97\u001b[0m                 for action in problem.actions(self.state)]\n\u001b[1;32m     98\u001b[0m \u001b[0;34m\u001b[0m\u001b[0m\n",
      "\u001b[0;32m~/Documents/Cursos/2020-2021/IA/Practicas/Python/aima-python/search.py\u001b[0m in \u001b[0;36mchild_node\u001b[0;34m(self, problem, action)\u001b[0m\n\u001b[1;32m     99\u001b[0m     \u001b[0;32mdef\u001b[0m \u001b[0mchild_node\u001b[0m\u001b[0;34m(\u001b[0m\u001b[0mself\u001b[0m\u001b[0;34m,\u001b[0m \u001b[0mproblem\u001b[0m\u001b[0;34m,\u001b[0m \u001b[0maction\u001b[0m\u001b[0;34m)\u001b[0m\u001b[0;34m:\u001b[0m\u001b[0;34m\u001b[0m\u001b[0;34m\u001b[0m\u001b[0m\n\u001b[1;32m    100\u001b[0m         \u001b[0;34m\"\"\"[Figure 3.10]\"\"\"\u001b[0m\u001b[0;34m\u001b[0m\u001b[0;34m\u001b[0m\u001b[0m\n\u001b[0;32m--> 101\u001b[0;31m         \u001b[0mnext_state\u001b[0m \u001b[0;34m=\u001b[0m \u001b[0mproblem\u001b[0m\u001b[0;34m.\u001b[0m\u001b[0mresult\u001b[0m\u001b[0;34m(\u001b[0m\u001b[0mself\u001b[0m\u001b[0;34m.\u001b[0m\u001b[0mstate\u001b[0m\u001b[0;34m,\u001b[0m \u001b[0maction\u001b[0m\u001b[0;34m)\u001b[0m\u001b[0;34m\u001b[0m\u001b[0;34m\u001b[0m\u001b[0m\n\u001b[0m\u001b[1;32m    102\u001b[0m         \u001b[0mnext_node\u001b[0m \u001b[0;34m=\u001b[0m \u001b[0mNode\u001b[0m\u001b[0;34m(\u001b[0m\u001b[0mnext_state\u001b[0m\u001b[0;34m,\u001b[0m \u001b[0mself\u001b[0m\u001b[0;34m,\u001b[0m \u001b[0maction\u001b[0m\u001b[0;34m,\u001b[0m \u001b[0mproblem\u001b[0m\u001b[0;34m.\u001b[0m\u001b[0mpath_cost\u001b[0m\u001b[0;34m(\u001b[0m\u001b[0mself\u001b[0m\u001b[0;34m.\u001b[0m\u001b[0mpath_cost\u001b[0m\u001b[0;34m,\u001b[0m \u001b[0mself\u001b[0m\u001b[0;34m.\u001b[0m\u001b[0mstate\u001b[0m\u001b[0;34m,\u001b[0m \u001b[0maction\u001b[0m\u001b[0;34m,\u001b[0m \u001b[0mnext_state\u001b[0m\u001b[0;34m)\u001b[0m\u001b[0;34m)\u001b[0m\u001b[0;34m\u001b[0m\u001b[0;34m\u001b[0m\u001b[0m\n\u001b[1;32m    103\u001b[0m         \u001b[0;32mreturn\u001b[0m \u001b[0mnext_node\u001b[0m\u001b[0;34m\u001b[0m\u001b[0;34m\u001b[0m\u001b[0m\n",
      "\u001b[0;32m<ipython-input-12-2f004942cc0e>\u001b[0m in \u001b[0;36mresult\u001b[0;34m(self, estado, accion)\u001b[0m\n\u001b[1;32m     43\u001b[0m             \u001b[0ml\u001b[0m\u001b[0;34m[\u001b[0m\u001b[0mpos_hueco\u001b[0m\u001b[0;34m]\u001b[0m \u001b[0;34m=\u001b[0m \u001b[0ml\u001b[0m\u001b[0;34m[\u001b[0m\u001b[0mpos_hueco\u001b[0m\u001b[0;34m+\u001b[0m\u001b[0;36m1\u001b[0m\u001b[0;34m]\u001b[0m\u001b[0;34m\u001b[0m\u001b[0;34m\u001b[0m\u001b[0m\n\u001b[1;32m     44\u001b[0m             \u001b[0ml\u001b[0m\u001b[0;34m[\u001b[0m\u001b[0mpos_hueco\u001b[0m\u001b[0;34m+\u001b[0m\u001b[0;36m1\u001b[0m\u001b[0;34m]\u001b[0m \u001b[0;34m=\u001b[0m \u001b[0;36m0\u001b[0m\u001b[0;34m\u001b[0m\u001b[0;34m\u001b[0m\u001b[0m\n\u001b[0;32m---> 45\u001b[0;31m         \u001b[0;32mreturn\u001b[0m \u001b[0mtuple\u001b[0m\u001b[0;34m(\u001b[0m\u001b[0ml\u001b[0m\u001b[0;34m)\u001b[0m\u001b[0;34m\u001b[0m\u001b[0;34m\u001b[0m\u001b[0m\n\u001b[0m\u001b[1;32m     46\u001b[0m \u001b[0;34m\u001b[0m\u001b[0m\n\u001b[1;32m     47\u001b[0m     \u001b[0;32mdef\u001b[0m \u001b[0mh\u001b[0m\u001b[0;34m(\u001b[0m\u001b[0mself\u001b[0m\u001b[0;34m,\u001b[0m \u001b[0mnode\u001b[0m\u001b[0;34m)\u001b[0m\u001b[0;34m:\u001b[0m\u001b[0;34m\u001b[0m\u001b[0;34m\u001b[0m\u001b[0m\n",
      "\u001b[0;31mKeyboardInterrupt\u001b[0m: "
     ]
    }
   ],
   "source": [
    "breadth_first_tree_search(Ocho_Puzzle((2, 8, 3, 1, 6, 4, 7, 0, 5))).solution()\n",
    "# La llamada corresponde al algoritmo de busqueda en anchura sin control de repetidos.  \n",
    "# Busqueda en anchura es completo.. ¿no debería terminar? escribe al final del ejercicio tus conclusiones."
   ]
  },
  {
   "cell_type": "code",
   "execution_count": 28,
   "metadata": {},
   "outputs": [
    {
     "data": {
      "text/plain": [
       "['Mover hueco derecha', 'Mover hueco derecha']"
      ]
     },
     "execution_count": 28,
     "metadata": {},
     "output_type": "execute_result"
    }
   ],
   "source": [
    "breadth_first_tree_search(Ocho_Puzzle((1,2,3,4,5,6,0,7,8))).solution()"
   ]
  },
  {
   "cell_type": "code",
   "execution_count": 29,
   "metadata": {},
   "outputs": [],
   "source": [
    "estado = Ocho_Puzzle((2, 4, 3, 1, 5, 6, 7, 8, 0))"
   ]
  },
  {
   "cell_type": "code",
   "execution_count": 30,
   "metadata": {},
   "outputs": [
    {
     "data": {
      "text/plain": [
       "['Mover hueco arriba',\n",
       " 'Mover hueco izquierda',\n",
       " 'Mover hueco arriba',\n",
       " 'Mover hueco izquierda',\n",
       " 'Mover hueco abajo',\n",
       " 'Mover hueco derecha',\n",
       " 'Mover hueco derecha',\n",
       " 'Mover hueco abajo']"
      ]
     },
     "execution_count": 30,
     "metadata": {},
     "output_type": "execute_result"
    }
   ],
   "source": [
    "breadth_first_tree_search(estado).solution()\n",
    "# Respuesta: ['UP', 'LEFT', 'UP', 'LEFT', 'DOWN', 'RIGHT', 'RIGHT', 'DOWN']"
   ]
  },
  {
   "cell_type": "code",
   "execution_count": 39,
   "metadata": {},
   "outputs": [
    {
     "data": {
      "text/plain": [
       "['Mover hueco izquierda',\n",
       " 'Mover hueco izquierda',\n",
       " 'Mover hueco arriba',\n",
       " 'Mover hueco derecha',\n",
       " 'Mover hueco derecha',\n",
       " 'Mover hueco abajo',\n",
       " 'Mover hueco izquierda',\n",
       " 'Mover hueco izquierda',\n",
       " 'Mover hueco arriba',\n",
       " 'Mover hueco derecha',\n",
       " 'Mover hueco derecha',\n",
       " 'Mover hueco abajo',\n",
       " 'Mover hueco izquierda',\n",
       " 'Mover hueco izquierda',\n",
       " 'Mover hueco arriba',\n",
       " 'Mover hueco derecha',\n",
       " 'Mover hueco derecha',\n",
       " 'Mover hueco abajo',\n",
       " 'Mover hueco izquierda',\n",
       " 'Mover hueco izquierda',\n",
       " 'Mover hueco arriba',\n",
       " 'Mover hueco derecha',\n",
       " 'Mover hueco derecha',\n",
       " 'Mover hueco abajo',\n",
       " 'Mover hueco izquierda',\n",
       " 'Mover hueco izquierda',\n",
       " 'Mover hueco arriba',\n",
       " 'Mover hueco derecha',\n",
       " 'Mover hueco abajo',\n",
       " 'Mover hueco derecha',\n",
       " 'Mover hueco arriba',\n",
       " 'Mover hueco izquierda',\n",
       " 'Mover hueco izquierda',\n",
       " 'Mover hueco abajo',\n",
       " 'Mover hueco derecha',\n",
       " 'Mover hueco derecha',\n",
       " 'Mover hueco arriba',\n",
       " 'Mover hueco izquierda',\n",
       " 'Mover hueco izquierda',\n",
       " 'Mover hueco abajo',\n",
       " 'Mover hueco derecha',\n",
       " 'Mover hueco derecha',\n",
       " 'Mover hueco arriba',\n",
       " 'Mover hueco arriba',\n",
       " 'Mover hueco izquierda',\n",
       " 'Mover hueco izquierda',\n",
       " 'Mover hueco abajo',\n",
       " 'Mover hueco derecha',\n",
       " 'Mover hueco derecha',\n",
       " 'Mover hueco abajo',\n",
       " 'Mover hueco izquierda',\n",
       " 'Mover hueco izquierda',\n",
       " 'Mover hueco arriba',\n",
       " 'Mover hueco derecha',\n",
       " 'Mover hueco derecha',\n",
       " 'Mover hueco abajo',\n",
       " 'Mover hueco izquierda',\n",
       " 'Mover hueco izquierda',\n",
       " 'Mover hueco arriba',\n",
       " 'Mover hueco derecha',\n",
       " 'Mover hueco derecha',\n",
       " 'Mover hueco abajo',\n",
       " 'Mover hueco izquierda',\n",
       " 'Mover hueco izquierda',\n",
       " 'Mover hueco arriba',\n",
       " 'Mover hueco derecha',\n",
       " 'Mover hueco derecha',\n",
       " 'Mover hueco abajo',\n",
       " 'Mover hueco izquierda',\n",
       " 'Mover hueco izquierda',\n",
       " 'Mover hueco arriba',\n",
       " 'Mover hueco derecha',\n",
       " 'Mover hueco derecha',\n",
       " 'Mover hueco abajo',\n",
       " 'Mover hueco izquierda',\n",
       " 'Mover hueco arriba',\n",
       " 'Mover hueco derecha',\n",
       " 'Mover hueco abajo',\n",
       " 'Mover hueco izquierda',\n",
       " 'Mover hueco izquierda',\n",
       " 'Mover hueco arriba',\n",
       " 'Mover hueco derecha',\n",
       " 'Mover hueco derecha',\n",
       " 'Mover hueco abajo',\n",
       " 'Mover hueco izquierda',\n",
       " 'Mover hueco izquierda',\n",
       " 'Mover hueco arriba',\n",
       " 'Mover hueco derecha',\n",
       " 'Mover hueco derecha',\n",
       " 'Mover hueco arriba',\n",
       " 'Mover hueco izquierda',\n",
       " 'Mover hueco izquierda',\n",
       " 'Mover hueco abajo',\n",
       " 'Mover hueco derecha',\n",
       " 'Mover hueco derecha',\n",
       " 'Mover hueco abajo',\n",
       " 'Mover hueco izquierda',\n",
       " 'Mover hueco izquierda',\n",
       " 'Mover hueco arriba',\n",
       " 'Mover hueco derecha',\n",
       " 'Mover hueco derecha',\n",
       " 'Mover hueco abajo',\n",
       " 'Mover hueco izquierda',\n",
       " 'Mover hueco izquierda',\n",
       " 'Mover hueco arriba',\n",
       " 'Mover hueco derecha',\n",
       " 'Mover hueco derecha',\n",
       " 'Mover hueco abajo',\n",
       " 'Mover hueco izquierda',\n",
       " 'Mover hueco izquierda',\n",
       " 'Mover hueco arriba',\n",
       " 'Mover hueco derecha',\n",
       " 'Mover hueco derecha',\n",
       " 'Mover hueco abajo',\n",
       " 'Mover hueco izquierda',\n",
       " 'Mover hueco izquierda',\n",
       " 'Mover hueco arriba',\n",
       " 'Mover hueco derecha',\n",
       " 'Mover hueco derecha',\n",
       " 'Mover hueco abajo',\n",
       " 'Mover hueco izquierda',\n",
       " 'Mover hueco arriba',\n",
       " 'Mover hueco derecha',\n",
       " 'Mover hueco abajo',\n",
       " 'Mover hueco izquierda',\n",
       " 'Mover hueco izquierda',\n",
       " 'Mover hueco arriba',\n",
       " 'Mover hueco derecha',\n",
       " 'Mover hueco derecha',\n",
       " 'Mover hueco abajo',\n",
       " 'Mover hueco izquierda',\n",
       " 'Mover hueco izquierda',\n",
       " 'Mover hueco arriba',\n",
       " 'Mover hueco derecha',\n",
       " 'Mover hueco derecha',\n",
       " 'Mover hueco arriba',\n",
       " 'Mover hueco izquierda',\n",
       " 'Mover hueco izquierda',\n",
       " 'Mover hueco abajo',\n",
       " 'Mover hueco derecha',\n",
       " 'Mover hueco derecha',\n",
       " 'Mover hueco abajo',\n",
       " 'Mover hueco izquierda',\n",
       " 'Mover hueco izquierda',\n",
       " 'Mover hueco arriba',\n",
       " 'Mover hueco derecha',\n",
       " 'Mover hueco derecha',\n",
       " 'Mover hueco abajo',\n",
       " 'Mover hueco izquierda',\n",
       " 'Mover hueco izquierda',\n",
       " 'Mover hueco arriba',\n",
       " 'Mover hueco derecha',\n",
       " 'Mover hueco derecha',\n",
       " 'Mover hueco abajo',\n",
       " 'Mover hueco izquierda',\n",
       " 'Mover hueco izquierda',\n",
       " 'Mover hueco arriba',\n",
       " 'Mover hueco derecha',\n",
       " 'Mover hueco derecha',\n",
       " 'Mover hueco abajo',\n",
       " 'Mover hueco izquierda',\n",
       " 'Mover hueco izquierda',\n",
       " 'Mover hueco arriba',\n",
       " 'Mover hueco derecha',\n",
       " 'Mover hueco derecha',\n",
       " 'Mover hueco abajo',\n",
       " 'Mover hueco izquierda',\n",
       " 'Mover hueco arriba',\n",
       " 'Mover hueco derecha',\n",
       " 'Mover hueco abajo',\n",
       " 'Mover hueco izquierda',\n",
       " 'Mover hueco izquierda',\n",
       " 'Mover hueco arriba',\n",
       " 'Mover hueco derecha',\n",
       " 'Mover hueco derecha',\n",
       " 'Mover hueco abajo',\n",
       " 'Mover hueco izquierda',\n",
       " 'Mover hueco izquierda',\n",
       " 'Mover hueco arriba',\n",
       " 'Mover hueco derecha',\n",
       " 'Mover hueco derecha',\n",
       " 'Mover hueco arriba',\n",
       " 'Mover hueco izquierda',\n",
       " 'Mover hueco izquierda',\n",
       " 'Mover hueco abajo',\n",
       " 'Mover hueco derecha',\n",
       " 'Mover hueco derecha',\n",
       " 'Mover hueco abajo',\n",
       " 'Mover hueco izquierda',\n",
       " 'Mover hueco izquierda',\n",
       " 'Mover hueco arriba',\n",
       " 'Mover hueco derecha',\n",
       " 'Mover hueco derecha',\n",
       " 'Mover hueco abajo',\n",
       " 'Mover hueco izquierda',\n",
       " 'Mover hueco izquierda',\n",
       " 'Mover hueco arriba',\n",
       " 'Mover hueco derecha',\n",
       " 'Mover hueco derecha',\n",
       " 'Mover hueco abajo',\n",
       " 'Mover hueco izquierda',\n",
       " 'Mover hueco izquierda',\n",
       " 'Mover hueco arriba',\n",
       " 'Mover hueco derecha',\n",
       " 'Mover hueco derecha',\n",
       " 'Mover hueco abajo',\n",
       " 'Mover hueco izquierda',\n",
       " 'Mover hueco izquierda',\n",
       " 'Mover hueco arriba',\n",
       " 'Mover hueco derecha',\n",
       " 'Mover hueco derecha',\n",
       " 'Mover hueco abajo',\n",
       " 'Mover hueco izquierda',\n",
       " 'Mover hueco arriba',\n",
       " 'Mover hueco derecha',\n",
       " 'Mover hueco abajo',\n",
       " 'Mover hueco izquierda',\n",
       " 'Mover hueco izquierda',\n",
       " 'Mover hueco arriba',\n",
       " 'Mover hueco derecha',\n",
       " 'Mover hueco derecha',\n",
       " 'Mover hueco abajo',\n",
       " 'Mover hueco izquierda',\n",
       " 'Mover hueco izquierda',\n",
       " 'Mover hueco arriba',\n",
       " 'Mover hueco derecha',\n",
       " 'Mover hueco derecha',\n",
       " 'Mover hueco arriba',\n",
       " 'Mover hueco izquierda',\n",
       " 'Mover hueco izquierda',\n",
       " 'Mover hueco abajo',\n",
       " 'Mover hueco derecha',\n",
       " 'Mover hueco derecha',\n",
       " 'Mover hueco abajo',\n",
       " 'Mover hueco izquierda',\n",
       " 'Mover hueco izquierda',\n",
       " 'Mover hueco arriba',\n",
       " 'Mover hueco derecha',\n",
       " 'Mover hueco derecha',\n",
       " 'Mover hueco abajo',\n",
       " 'Mover hueco izquierda',\n",
       " 'Mover hueco izquierda',\n",
       " 'Mover hueco arriba',\n",
       " 'Mover hueco derecha',\n",
       " 'Mover hueco derecha',\n",
       " 'Mover hueco abajo',\n",
       " 'Mover hueco izquierda',\n",
       " 'Mover hueco izquierda',\n",
       " 'Mover hueco arriba',\n",
       " 'Mover hueco derecha',\n",
       " 'Mover hueco derecha',\n",
       " 'Mover hueco abajo',\n",
       " 'Mover hueco izquierda',\n",
       " 'Mover hueco izquierda',\n",
       " 'Mover hueco arriba',\n",
       " 'Mover hueco derecha',\n",
       " 'Mover hueco derecha',\n",
       " 'Mover hueco abajo',\n",
       " 'Mover hueco izquierda',\n",
       " 'Mover hueco arriba',\n",
       " 'Mover hueco derecha',\n",
       " 'Mover hueco abajo',\n",
       " 'Mover hueco izquierda',\n",
       " 'Mover hueco izquierda',\n",
       " 'Mover hueco arriba',\n",
       " 'Mover hueco derecha',\n",
       " 'Mover hueco derecha',\n",
       " 'Mover hueco abajo',\n",
       " 'Mover hueco izquierda',\n",
       " 'Mover hueco izquierda',\n",
       " 'Mover hueco arriba',\n",
       " 'Mover hueco derecha',\n",
       " 'Mover hueco derecha',\n",
       " 'Mover hueco arriba',\n",
       " 'Mover hueco izquierda',\n",
       " 'Mover hueco izquierda',\n",
       " 'Mover hueco abajo',\n",
       " 'Mover hueco derecha',\n",
       " 'Mover hueco derecha',\n",
       " 'Mover hueco abajo',\n",
       " 'Mover hueco izquierda',\n",
       " 'Mover hueco izquierda',\n",
       " 'Mover hueco arriba',\n",
       " 'Mover hueco derecha',\n",
       " 'Mover hueco derecha',\n",
       " 'Mover hueco abajo',\n",
       " 'Mover hueco izquierda',\n",
       " 'Mover hueco izquierda',\n",
       " 'Mover hueco arriba',\n",
       " 'Mover hueco derecha',\n",
       " 'Mover hueco derecha',\n",
       " 'Mover hueco abajo',\n",
       " 'Mover hueco izquierda',\n",
       " 'Mover hueco izquierda',\n",
       " 'Mover hueco arriba',\n",
       " 'Mover hueco derecha',\n",
       " 'Mover hueco derecha',\n",
       " 'Mover hueco abajo',\n",
       " 'Mover hueco izquierda',\n",
       " 'Mover hueco izquierda',\n",
       " 'Mover hueco arriba',\n",
       " 'Mover hueco derecha',\n",
       " 'Mover hueco derecha',\n",
       " 'Mover hueco abajo',\n",
       " 'Mover hueco izquierda',\n",
       " 'Mover hueco arriba',\n",
       " 'Mover hueco derecha',\n",
       " 'Mover hueco abajo',\n",
       " 'Mover hueco izquierda',\n",
       " 'Mover hueco izquierda',\n",
       " 'Mover hueco arriba',\n",
       " 'Mover hueco derecha',\n",
       " 'Mover hueco derecha',\n",
       " 'Mover hueco abajo',\n",
       " 'Mover hueco izquierda',\n",
       " 'Mover hueco izquierda',\n",
       " 'Mover hueco arriba',\n",
       " 'Mover hueco derecha',\n",
       " 'Mover hueco derecha',\n",
       " 'Mover hueco arriba',\n",
       " 'Mover hueco izquierda',\n",
       " 'Mover hueco izquierda',\n",
       " 'Mover hueco abajo',\n",
       " 'Mover hueco abajo',\n",
       " 'Mover hueco derecha',\n",
       " 'Mover hueco derecha',\n",
       " 'Mover hueco arriba',\n",
       " 'Mover hueco izquierda',\n",
       " 'Mover hueco izquierda',\n",
       " 'Mover hueco abajo',\n",
       " 'Mover hueco derecha',\n",
       " 'Mover hueco derecha',\n",
       " 'Mover hueco arriba',\n",
       " 'Mover hueco izquierda',\n",
       " 'Mover hueco izquierda',\n",
       " 'Mover hueco arriba',\n",
       " 'Mover hueco derecha',\n",
       " 'Mover hueco derecha',\n",
       " 'Mover hueco abajo',\n",
       " 'Mover hueco izquierda',\n",
       " 'Mover hueco izquierda',\n",
       " 'Mover hueco abajo',\n",
       " 'Mover hueco derecha',\n",
       " 'Mover hueco derecha',\n",
       " 'Mover hueco arriba',\n",
       " 'Mover hueco izquierda',\n",
       " 'Mover hueco izquierda',\n",
       " 'Mover hueco abajo',\n",
       " 'Mover hueco derecha',\n",
       " 'Mover hueco derecha',\n",
       " 'Mover hueco arriba',\n",
       " 'Mover hueco izquierda',\n",
       " 'Mover hueco izquierda',\n",
       " 'Mover hueco abajo',\n",
       " 'Mover hueco derecha',\n",
       " 'Mover hueco derecha',\n",
       " 'Mover hueco arriba',\n",
       " 'Mover hueco izquierda',\n",
       " 'Mover hueco izquierda',\n",
       " 'Mover hueco abajo',\n",
       " 'Mover hueco derecha',\n",
       " 'Mover hueco derecha',\n",
       " 'Mover hueco arriba',\n",
       " 'Mover hueco izquierda',\n",
       " 'Mover hueco izquierda',\n",
       " 'Mover hueco abajo',\n",
       " 'Mover hueco derecha',\n",
       " 'Mover hueco arriba',\n",
       " 'Mover hueco derecha',\n",
       " 'Mover hueco abajo',\n",
       " 'Mover hueco izquierda',\n",
       " 'Mover hueco izquierda',\n",
       " 'Mover hueco arriba',\n",
       " 'Mover hueco derecha',\n",
       " 'Mover hueco derecha',\n",
       " 'Mover hueco abajo',\n",
       " 'Mover hueco izquierda',\n",
       " 'Mover hueco izquierda',\n",
       " 'Mover hueco arriba',\n",
       " 'Mover hueco derecha',\n",
       " 'Mover hueco derecha',\n",
       " 'Mover hueco arriba',\n",
       " 'Mover hueco izquierda',\n",
       " 'Mover hueco izquierda',\n",
       " 'Mover hueco abajo',\n",
       " 'Mover hueco derecha',\n",
       " 'Mover hueco derecha',\n",
       " 'Mover hueco abajo',\n",
       " 'Mover hueco izquierda',\n",
       " 'Mover hueco izquierda',\n",
       " 'Mover hueco arriba',\n",
       " 'Mover hueco derecha',\n",
       " 'Mover hueco derecha',\n",
       " 'Mover hueco abajo',\n",
       " 'Mover hueco izquierda',\n",
       " 'Mover hueco izquierda',\n",
       " 'Mover hueco arriba',\n",
       " 'Mover hueco derecha',\n",
       " 'Mover hueco derecha',\n",
       " 'Mover hueco abajo',\n",
       " 'Mover hueco izquierda',\n",
       " 'Mover hueco izquierda',\n",
       " 'Mover hueco arriba',\n",
       " 'Mover hueco derecha',\n",
       " 'Mover hueco derecha',\n",
       " 'Mover hueco abajo',\n",
       " 'Mover hueco izquierda',\n",
       " 'Mover hueco izquierda',\n",
       " 'Mover hueco arriba',\n",
       " 'Mover hueco derecha',\n",
       " 'Mover hueco derecha',\n",
       " 'Mover hueco abajo',\n",
       " 'Mover hueco izquierda',\n",
       " 'Mover hueco arriba',\n",
       " 'Mover hueco derecha',\n",
       " 'Mover hueco abajo',\n",
       " 'Mover hueco izquierda',\n",
       " 'Mover hueco izquierda',\n",
       " 'Mover hueco arriba',\n",
       " 'Mover hueco derecha',\n",
       " 'Mover hueco derecha',\n",
       " 'Mover hueco abajo',\n",
       " 'Mover hueco izquierda',\n",
       " 'Mover hueco izquierda',\n",
       " 'Mover hueco arriba',\n",
       " 'Mover hueco derecha',\n",
       " 'Mover hueco derecha',\n",
       " 'Mover hueco arriba',\n",
       " 'Mover hueco izquierda',\n",
       " 'Mover hueco izquierda',\n",
       " 'Mover hueco abajo',\n",
       " 'Mover hueco derecha',\n",
       " 'Mover hueco derecha',\n",
       " 'Mover hueco abajo',\n",
       " 'Mover hueco izquierda',\n",
       " 'Mover hueco izquierda',\n",
       " 'Mover hueco arriba',\n",
       " 'Mover hueco derecha',\n",
       " 'Mover hueco derecha',\n",
       " 'Mover hueco abajo',\n",
       " 'Mover hueco izquierda',\n",
       " 'Mover hueco izquierda',\n",
       " 'Mover hueco arriba',\n",
       " 'Mover hueco derecha',\n",
       " 'Mover hueco derecha',\n",
       " 'Mover hueco abajo',\n",
       " 'Mover hueco izquierda',\n",
       " 'Mover hueco izquierda',\n",
       " 'Mover hueco arriba',\n",
       " 'Mover hueco derecha',\n",
       " 'Mover hueco derecha',\n",
       " 'Mover hueco abajo',\n",
       " 'Mover hueco izquierda',\n",
       " 'Mover hueco izquierda',\n",
       " 'Mover hueco arriba',\n",
       " 'Mover hueco derecha',\n",
       " 'Mover hueco derecha',\n",
       " 'Mover hueco abajo',\n",
       " 'Mover hueco izquierda',\n",
       " 'Mover hueco arriba',\n",
       " 'Mover hueco derecha',\n",
       " 'Mover hueco abajo',\n",
       " 'Mover hueco izquierda',\n",
       " 'Mover hueco izquierda',\n",
       " 'Mover hueco arriba',\n",
       " 'Mover hueco derecha',\n",
       " 'Mover hueco derecha',\n",
       " 'Mover hueco abajo',\n",
       " 'Mover hueco izquierda',\n",
       " 'Mover hueco izquierda',\n",
       " 'Mover hueco arriba',\n",
       " 'Mover hueco derecha',\n",
       " 'Mover hueco derecha',\n",
       " 'Mover hueco arriba',\n",
       " 'Mover hueco izquierda',\n",
       " 'Mover hueco izquierda',\n",
       " 'Mover hueco abajo',\n",
       " 'Mover hueco derecha',\n",
       " 'Mover hueco derecha',\n",
       " 'Mover hueco abajo',\n",
       " 'Mover hueco izquierda',\n",
       " 'Mover hueco izquierda',\n",
       " 'Mover hueco arriba',\n",
       " 'Mover hueco derecha',\n",
       " 'Mover hueco derecha',\n",
       " 'Mover hueco abajo',\n",
       " 'Mover hueco izquierda',\n",
       " 'Mover hueco izquierda',\n",
       " 'Mover hueco arriba',\n",
       " 'Mover hueco derecha',\n",
       " 'Mover hueco derecha',\n",
       " 'Mover hueco abajo',\n",
       " 'Mover hueco izquierda',\n",
       " 'Mover hueco izquierda',\n",
       " 'Mover hueco arriba',\n",
       " 'Mover hueco derecha',\n",
       " 'Mover hueco derecha',\n",
       " 'Mover hueco abajo',\n",
       " 'Mover hueco izquierda',\n",
       " 'Mover hueco izquierda',\n",
       " 'Mover hueco arriba',\n",
       " 'Mover hueco derecha',\n",
       " 'Mover hueco derecha',\n",
       " 'Mover hueco abajo',\n",
       " 'Mover hueco izquierda',\n",
       " 'Mover hueco arriba',\n",
       " 'Mover hueco derecha',\n",
       " 'Mover hueco abajo',\n",
       " 'Mover hueco izquierda',\n",
       " 'Mover hueco izquierda',\n",
       " 'Mover hueco arriba',\n",
       " 'Mover hueco derecha',\n",
       " 'Mover hueco derecha',\n",
       " 'Mover hueco abajo',\n",
       " 'Mover hueco izquierda',\n",
       " 'Mover hueco izquierda',\n",
       " 'Mover hueco arriba',\n",
       " 'Mover hueco derecha',\n",
       " 'Mover hueco derecha',\n",
       " 'Mover hueco arriba',\n",
       " 'Mover hueco izquierda',\n",
       " 'Mover hueco izquierda',\n",
       " 'Mover hueco abajo',\n",
       " 'Mover hueco derecha',\n",
       " 'Mover hueco derecha',\n",
       " 'Mover hueco abajo',\n",
       " 'Mover hueco izquierda',\n",
       " 'Mover hueco izquierda',\n",
       " 'Mover hueco arriba',\n",
       " 'Mover hueco derecha',\n",
       " 'Mover hueco derecha',\n",
       " 'Mover hueco abajo',\n",
       " 'Mover hueco izquierda',\n",
       " 'Mover hueco izquierda',\n",
       " 'Mover hueco arriba',\n",
       " 'Mover hueco derecha',\n",
       " 'Mover hueco derecha',\n",
       " 'Mover hueco abajo',\n",
       " 'Mover hueco izquierda',\n",
       " 'Mover hueco izquierda',\n",
       " 'Mover hueco arriba',\n",
       " 'Mover hueco derecha',\n",
       " 'Mover hueco derecha',\n",
       " 'Mover hueco abajo',\n",
       " 'Mover hueco izquierda',\n",
       " 'Mover hueco izquierda',\n",
       " 'Mover hueco arriba',\n",
       " 'Mover hueco derecha',\n",
       " 'Mover hueco derecha',\n",
       " 'Mover hueco abajo',\n",
       " 'Mover hueco izquierda',\n",
       " 'Mover hueco arriba',\n",
       " 'Mover hueco derecha',\n",
       " 'Mover hueco abajo',\n",
       " 'Mover hueco izquierda',\n",
       " 'Mover hueco izquierda',\n",
       " 'Mover hueco arriba',\n",
       " 'Mover hueco derecha',\n",
       " 'Mover hueco derecha',\n",
       " 'Mover hueco abajo',\n",
       " 'Mover hueco izquierda',\n",
       " 'Mover hueco izquierda',\n",
       " 'Mover hueco arriba',\n",
       " 'Mover hueco derecha',\n",
       " 'Mover hueco derecha',\n",
       " 'Mover hueco arriba',\n",
       " 'Mover hueco izquierda',\n",
       " 'Mover hueco izquierda',\n",
       " 'Mover hueco abajo',\n",
       " 'Mover hueco derecha',\n",
       " 'Mover hueco derecha',\n",
       " 'Mover hueco abajo',\n",
       " 'Mover hueco izquierda',\n",
       " 'Mover hueco izquierda',\n",
       " 'Mover hueco arriba',\n",
       " 'Mover hueco derecha',\n",
       " 'Mover hueco derecha',\n",
       " 'Mover hueco abajo',\n",
       " 'Mover hueco izquierda',\n",
       " 'Mover hueco izquierda',\n",
       " 'Mover hueco arriba',\n",
       " 'Mover hueco derecha',\n",
       " 'Mover hueco derecha',\n",
       " 'Mover hueco abajo',\n",
       " 'Mover hueco izquierda',\n",
       " 'Mover hueco izquierda',\n",
       " 'Mover hueco arriba',\n",
       " 'Mover hueco derecha',\n",
       " 'Mover hueco derecha',\n",
       " 'Mover hueco abajo',\n",
       " 'Mover hueco izquierda',\n",
       " 'Mover hueco izquierda',\n",
       " 'Mover hueco arriba',\n",
       " 'Mover hueco derecha',\n",
       " 'Mover hueco derecha',\n",
       " 'Mover hueco abajo',\n",
       " 'Mover hueco izquierda',\n",
       " 'Mover hueco arriba',\n",
       " 'Mover hueco derecha',\n",
       " 'Mover hueco abajo',\n",
       " 'Mover hueco izquierda',\n",
       " 'Mover hueco izquierda',\n",
       " 'Mover hueco arriba',\n",
       " 'Mover hueco derecha',\n",
       " 'Mover hueco derecha',\n",
       " 'Mover hueco abajo',\n",
       " 'Mover hueco izquierda',\n",
       " 'Mover hueco izquierda',\n",
       " 'Mover hueco arriba',\n",
       " 'Mover hueco derecha',\n",
       " 'Mover hueco derecha',\n",
       " 'Mover hueco arriba',\n",
       " 'Mover hueco izquierda',\n",
       " 'Mover hueco izquierda',\n",
       " 'Mover hueco abajo',\n",
       " 'Mover hueco derecha',\n",
       " 'Mover hueco derecha',\n",
       " 'Mover hueco abajo',\n",
       " 'Mover hueco izquierda',\n",
       " 'Mover hueco izquierda',\n",
       " 'Mover hueco arriba',\n",
       " 'Mover hueco derecha',\n",
       " 'Mover hueco derecha',\n",
       " 'Mover hueco abajo',\n",
       " 'Mover hueco izquierda',\n",
       " 'Mover hueco izquierda',\n",
       " 'Mover hueco arriba',\n",
       " 'Mover hueco derecha',\n",
       " 'Mover hueco derecha',\n",
       " 'Mover hueco abajo',\n",
       " 'Mover hueco izquierda',\n",
       " 'Mover hueco izquierda',\n",
       " 'Mover hueco arriba',\n",
       " 'Mover hueco derecha',\n",
       " 'Mover hueco derecha',\n",
       " 'Mover hueco abajo',\n",
       " 'Mover hueco izquierda',\n",
       " 'Mover hueco izquierda',\n",
       " 'Mover hueco arriba',\n",
       " 'Mover hueco derecha',\n",
       " 'Mover hueco derecha',\n",
       " 'Mover hueco abajo',\n",
       " 'Mover hueco izquierda',\n",
       " 'Mover hueco arriba',\n",
       " 'Mover hueco derecha',\n",
       " 'Mover hueco abajo',\n",
       " 'Mover hueco izquierda',\n",
       " 'Mover hueco izquierda',\n",
       " 'Mover hueco arriba',\n",
       " 'Mover hueco derecha',\n",
       " 'Mover hueco derecha',\n",
       " 'Mover hueco abajo',\n",
       " 'Mover hueco izquierda',\n",
       " 'Mover hueco izquierda',\n",
       " 'Mover hueco arriba',\n",
       " 'Mover hueco derecha',\n",
       " 'Mover hueco derecha',\n",
       " 'Mover hueco arriba',\n",
       " 'Mover hueco izquierda',\n",
       " 'Mover hueco abajo',\n",
       " 'Mover hueco derecha',\n",
       " 'Mover hueco abajo',\n",
       " 'Mover hueco izquierda',\n",
       " 'Mover hueco izquierda',\n",
       " 'Mover hueco arriba',\n",
       " 'Mover hueco derecha',\n",
       " 'Mover hueco derecha',\n",
       " 'Mover hueco abajo',\n",
       " 'Mover hueco izquierda',\n",
       " 'Mover hueco izquierda',\n",
       " 'Mover hueco arriba',\n",
       " 'Mover hueco derecha',\n",
       " 'Mover hueco derecha',\n",
       " 'Mover hueco abajo',\n",
       " 'Mover hueco izquierda',\n",
       " 'Mover hueco izquierda',\n",
       " 'Mover hueco arriba',\n",
       " 'Mover hueco derecha',\n",
       " 'Mover hueco derecha',\n",
       " 'Mover hueco abajo',\n",
       " 'Mover hueco izquierda',\n",
       " 'Mover hueco izquierda',\n",
       " 'Mover hueco arriba',\n",
       " 'Mover hueco derecha',\n",
       " 'Mover hueco derecha',\n",
       " 'Mover hueco abajo',\n",
       " 'Mover hueco izquierda',\n",
       " 'Mover hueco arriba',\n",
       " 'Mover hueco derecha',\n",
       " 'Mover hueco abajo',\n",
       " 'Mover hueco izquierda',\n",
       " 'Mover hueco izquierda',\n",
       " 'Mover hueco arriba',\n",
       " 'Mover hueco derecha',\n",
       " 'Mover hueco derecha',\n",
       " 'Mover hueco abajo',\n",
       " 'Mover hueco izquierda',\n",
       " 'Mover hueco izquierda',\n",
       " 'Mover hueco arriba',\n",
       " 'Mover hueco derecha',\n",
       " 'Mover hueco derecha',\n",
       " 'Mover hueco arriba',\n",
       " 'Mover hueco izquierda',\n",
       " 'Mover hueco izquierda',\n",
       " 'Mover hueco abajo',\n",
       " 'Mover hueco derecha',\n",
       " 'Mover hueco derecha',\n",
       " 'Mover hueco abajo',\n",
       " 'Mover hueco izquierda',\n",
       " 'Mover hueco izquierda',\n",
       " 'Mover hueco arriba',\n",
       " 'Mover hueco derecha',\n",
       " 'Mover hueco derecha',\n",
       " 'Mover hueco abajo',\n",
       " 'Mover hueco izquierda',\n",
       " 'Mover hueco izquierda',\n",
       " 'Mover hueco arriba',\n",
       " 'Mover hueco derecha',\n",
       " 'Mover hueco derecha',\n",
       " 'Mover hueco abajo',\n",
       " 'Mover hueco izquierda',\n",
       " 'Mover hueco izquierda',\n",
       " 'Mover hueco arriba',\n",
       " 'Mover hueco derecha',\n",
       " 'Mover hueco derecha',\n",
       " 'Mover hueco abajo',\n",
       " 'Mover hueco izquierda',\n",
       " 'Mover hueco izquierda',\n",
       " 'Mover hueco arriba',\n",
       " 'Mover hueco derecha',\n",
       " 'Mover hueco derecha',\n",
       " 'Mover hueco abajo',\n",
       " 'Mover hueco izquierda',\n",
       " 'Mover hueco arriba',\n",
       " 'Mover hueco derecha',\n",
       " 'Mover hueco abajo',\n",
       " 'Mover hueco izquierda',\n",
       " 'Mover hueco izquierda',\n",
       " 'Mover hueco arriba',\n",
       " 'Mover hueco derecha',\n",
       " 'Mover hueco derecha',\n",
       " 'Mover hueco abajo',\n",
       " 'Mover hueco izquierda',\n",
       " 'Mover hueco izquierda',\n",
       " 'Mover hueco arriba',\n",
       " 'Mover hueco derecha',\n",
       " 'Mover hueco abajo',\n",
       " 'Mover hueco derecha',\n",
       " 'Mover hueco arriba',\n",
       " 'Mover hueco arriba',\n",
       " 'Mover hueco izquierda',\n",
       " 'Mover hueco izquierda',\n",
       " 'Mover hueco abajo',\n",
       " 'Mover hueco derecha',\n",
       " 'Mover hueco derecha',\n",
       " 'Mover hueco abajo',\n",
       " 'Mover hueco izquierda',\n",
       " 'Mover hueco izquierda',\n",
       " 'Mover hueco arriba',\n",
       " 'Mover hueco derecha',\n",
       " 'Mover hueco derecha',\n",
       " 'Mover hueco abajo',\n",
       " 'Mover hueco izquierda',\n",
       " 'Mover hueco izquierda',\n",
       " 'Mover hueco arriba',\n",
       " 'Mover hueco derecha',\n",
       " 'Mover hueco derecha',\n",
       " 'Mover hueco abajo',\n",
       " 'Mover hueco izquierda',\n",
       " 'Mover hueco izquierda',\n",
       " 'Mover hueco arriba',\n",
       " 'Mover hueco derecha',\n",
       " 'Mover hueco derecha',\n",
       " 'Mover hueco abajo',\n",
       " 'Mover hueco izquierda',\n",
       " 'Mover hueco izquierda',\n",
       " 'Mover hueco arriba',\n",
       " 'Mover hueco derecha',\n",
       " 'Mover hueco derecha',\n",
       " 'Mover hueco abajo',\n",
       " 'Mover hueco izquierda',\n",
       " 'Mover hueco arriba',\n",
       " 'Mover hueco derecha',\n",
       " 'Mover hueco abajo',\n",
       " 'Mover hueco izquierda',\n",
       " 'Mover hueco izquierda',\n",
       " 'Mover hueco arriba',\n",
       " 'Mover hueco derecha',\n",
       " 'Mover hueco derecha',\n",
       " 'Mover hueco abajo',\n",
       " 'Mover hueco izquierda',\n",
       " 'Mover hueco izquierda',\n",
       " 'Mover hueco arriba',\n",
       " 'Mover hueco derecha',\n",
       " 'Mover hueco derecha',\n",
       " 'Mover hueco arriba',\n",
       " 'Mover hueco izquierda',\n",
       " 'Mover hueco izquierda',\n",
       " 'Mover hueco abajo',\n",
       " 'Mover hueco derecha',\n",
       " 'Mover hueco derecha',\n",
       " 'Mover hueco abajo',\n",
       " 'Mover hueco izquierda',\n",
       " 'Mover hueco izquierda',\n",
       " 'Mover hueco arriba',\n",
       " 'Mover hueco derecha',\n",
       " 'Mover hueco derecha',\n",
       " 'Mover hueco abajo',\n",
       " 'Mover hueco izquierda',\n",
       " 'Mover hueco izquierda',\n",
       " 'Mover hueco arriba',\n",
       " 'Mover hueco derecha',\n",
       " 'Mover hueco derecha',\n",
       " 'Mover hueco abajo',\n",
       " 'Mover hueco izquierda',\n",
       " 'Mover hueco izquierda',\n",
       " 'Mover hueco arriba',\n",
       " 'Mover hueco derecha',\n",
       " 'Mover hueco derecha',\n",
       " 'Mover hueco abajo',\n",
       " 'Mover hueco izquierda',\n",
       " 'Mover hueco izquierda',\n",
       " 'Mover hueco arriba',\n",
       " 'Mover hueco derecha',\n",
       " 'Mover hueco derecha',\n",
       " 'Mover hueco abajo',\n",
       " 'Mover hueco izquierda',\n",
       " 'Mover hueco arriba',\n",
       " 'Mover hueco derecha',\n",
       " 'Mover hueco abajo',\n",
       " 'Mover hueco izquierda',\n",
       " 'Mover hueco izquierda',\n",
       " 'Mover hueco arriba',\n",
       " 'Mover hueco derecha',\n",
       " 'Mover hueco derecha',\n",
       " 'Mover hueco abajo',\n",
       " 'Mover hueco izquierda',\n",
       " 'Mover hueco izquierda',\n",
       " 'Mover hueco arriba',\n",
       " 'Mover hueco derecha',\n",
       " 'Mover hueco derecha',\n",
       " 'Mover hueco arriba',\n",
       " 'Mover hueco izquierda',\n",
       " 'Mover hueco izquierda',\n",
       " 'Mover hueco abajo',\n",
       " 'Mover hueco derecha',\n",
       " 'Mover hueco derecha',\n",
       " 'Mover hueco abajo',\n",
       " 'Mover hueco izquierda',\n",
       " 'Mover hueco izquierda',\n",
       " 'Mover hueco arriba',\n",
       " 'Mover hueco derecha',\n",
       " 'Mover hueco derecha',\n",
       " 'Mover hueco abajo',\n",
       " 'Mover hueco izquierda',\n",
       " 'Mover hueco izquierda',\n",
       " 'Mover hueco arriba',\n",
       " 'Mover hueco derecha',\n",
       " 'Mover hueco derecha',\n",
       " 'Mover hueco abajo',\n",
       " 'Mover hueco izquierda',\n",
       " 'Mover hueco izquierda',\n",
       " 'Mover hueco arriba',\n",
       " 'Mover hueco derecha',\n",
       " 'Mover hueco derecha',\n",
       " 'Mover hueco abajo',\n",
       " 'Mover hueco izquierda',\n",
       " 'Mover hueco izquierda',\n",
       " 'Mover hueco arriba',\n",
       " 'Mover hueco derecha',\n",
       " 'Mover hueco derecha',\n",
       " 'Mover hueco abajo',\n",
       " 'Mover hueco izquierda',\n",
       " 'Mover hueco arriba',\n",
       " 'Mover hueco derecha',\n",
       " 'Mover hueco abajo',\n",
       " 'Mover hueco izquierda',\n",
       " 'Mover hueco izquierda',\n",
       " 'Mover hueco arriba',\n",
       " 'Mover hueco derecha',\n",
       " 'Mover hueco derecha',\n",
       " 'Mover hueco abajo',\n",
       " 'Mover hueco izquierda',\n",
       " 'Mover hueco izquierda',\n",
       " 'Mover hueco arriba',\n",
       " 'Mover hueco derecha',\n",
       " 'Mover hueco derecha',\n",
       " 'Mover hueco arriba',\n",
       " 'Mover hueco izquierda',\n",
       " 'Mover hueco izquierda',\n",
       " 'Mover hueco abajo',\n",
       " 'Mover hueco derecha',\n",
       " 'Mover hueco derecha',\n",
       " 'Mover hueco abajo',\n",
       " 'Mover hueco izquierda',\n",
       " 'Mover hueco izquierda',\n",
       " 'Mover hueco arriba',\n",
       " 'Mover hueco derecha',\n",
       " 'Mover hueco derecha',\n",
       " 'Mover hueco abajo',\n",
       " 'Mover hueco izquierda',\n",
       " 'Mover hueco izquierda',\n",
       " 'Mover hueco arriba',\n",
       " 'Mover hueco derecha',\n",
       " 'Mover hueco derecha',\n",
       " 'Mover hueco abajo',\n",
       " 'Mover hueco izquierda',\n",
       " 'Mover hueco izquierda',\n",
       " 'Mover hueco arriba',\n",
       " 'Mover hueco derecha',\n",
       " 'Mover hueco derecha',\n",
       " 'Mover hueco abajo',\n",
       " 'Mover hueco izquierda',\n",
       " 'Mover hueco izquierda',\n",
       " 'Mover hueco arriba',\n",
       " 'Mover hueco derecha',\n",
       " 'Mover hueco derecha',\n",
       " 'Mover hueco abajo',\n",
       " 'Mover hueco izquierda',\n",
       " 'Mover hueco arriba',\n",
       " 'Mover hueco derecha',\n",
       " 'Mover hueco abajo',\n",
       " 'Mover hueco izquierda',\n",
       " 'Mover hueco izquierda',\n",
       " 'Mover hueco arriba',\n",
       " 'Mover hueco derecha',\n",
       " 'Mover hueco derecha',\n",
       " 'Mover hueco abajo',\n",
       " 'Mover hueco izquierda',\n",
       " 'Mover hueco izquierda',\n",
       " 'Mover hueco arriba',\n",
       " 'Mover hueco derecha',\n",
       " 'Mover hueco derecha',\n",
       " 'Mover hueco arriba',\n",
       " 'Mover hueco izquierda',\n",
       " 'Mover hueco izquierda',\n",
       " 'Mover hueco abajo',\n",
       " 'Mover hueco derecha',\n",
       " 'Mover hueco derecha',\n",
       " 'Mover hueco abajo',\n",
       " 'Mover hueco izquierda',\n",
       " 'Mover hueco izquierda',\n",
       " 'Mover hueco arriba',\n",
       " 'Mover hueco derecha',\n",
       " 'Mover hueco derecha',\n",
       " 'Mover hueco abajo',\n",
       " 'Mover hueco izquierda',\n",
       " 'Mover hueco izquierda',\n",
       " 'Mover hueco arriba',\n",
       " 'Mover hueco derecha',\n",
       " 'Mover hueco derecha',\n",
       " 'Mover hueco abajo',\n",
       " 'Mover hueco izquierda',\n",
       " 'Mover hueco izquierda',\n",
       " 'Mover hueco arriba',\n",
       " 'Mover hueco derecha',\n",
       " 'Mover hueco derecha',\n",
       " 'Mover hueco abajo',\n",
       " 'Mover hueco izquierda',\n",
       " 'Mover hueco izquierda',\n",
       " 'Mover hueco arriba',\n",
       " 'Mover hueco derecha',\n",
       " 'Mover hueco derecha',\n",
       " 'Mover hueco abajo',\n",
       " 'Mover hueco izquierda',\n",
       " 'Mover hueco arriba',\n",
       " 'Mover hueco derecha',\n",
       " 'Mover hueco abajo',\n",
       " 'Mover hueco izquierda',\n",
       " 'Mover hueco izquierda',\n",
       " 'Mover hueco arriba',\n",
       " 'Mover hueco derecha',\n",
       " 'Mover hueco derecha',\n",
       " 'Mover hueco abajo',\n",
       " 'Mover hueco izquierda',\n",
       " 'Mover hueco izquierda',\n",
       " 'Mover hueco arriba',\n",
       " 'Mover hueco derecha',\n",
       " 'Mover hueco derecha',\n",
       " 'Mover hueco arriba',\n",
       " 'Mover hueco izquierda',\n",
       " 'Mover hueco izquierda',\n",
       " 'Mover hueco abajo',\n",
       " 'Mover hueco derecha',\n",
       " 'Mover hueco derecha',\n",
       " 'Mover hueco arriba',\n",
       " 'Mover hueco izquierda',\n",
       " 'Mover hueco izquierda',\n",
       " 'Mover hueco abajo',\n",
       " 'Mover hueco derecha',\n",
       " 'Mover hueco derecha',\n",
       " 'Mover hueco abajo',\n",
       " 'Mover hueco izquierda',\n",
       " 'Mover hueco izquierda',\n",
       " 'Mover hueco arriba',\n",
       " 'Mover hueco derecha',\n",
       " 'Mover hueco derecha',\n",
       " 'Mover hueco abajo',\n",
       " 'Mover hueco izquierda',\n",
       " 'Mover hueco izquierda',\n",
       " ...]"
      ]
     },
     "execution_count": 39,
     "metadata": {},
     "output_type": "execute_result"
    }
   ],
   "source": [
    "depth_first_graph_search(estado).solution()"
   ]
  },
  {
   "cell_type": "code",
   "execution_count": 31,
   "metadata": {
    "scrolled": true
   },
   "outputs": [
    {
     "data": {
      "text/plain": [
       "['Mover hueco arriba',\n",
       " 'Mover hueco izquierda',\n",
       " 'Mover hueco arriba',\n",
       " 'Mover hueco izquierda',\n",
       " 'Mover hueco abajo',\n",
       " 'Mover hueco derecha',\n",
       " 'Mover hueco derecha',\n",
       " 'Mover hueco abajo']"
      ]
     },
     "execution_count": 31,
     "metadata": {},
     "output_type": "execute_result"
    }
   ],
   "source": [
    "breadth_first_graph_search(estado).solution()"
   ]
  },
  {
   "cell_type": "markdown",
   "metadata": {},
   "source": [
    "#### En este ejercicio se ha podido observar los resultados y tiempo de la ejecución de los algoritmos de búsqueda ciega.  Escribe aquí tus conclusiones:\n",
    "\n",
    "1. breadth_first_tree_search(Ocho_Puzzle((2, 8, 3, 1, 6, 4, 7, 0, 5))).solution():\\\n",
    "Como la búsqueda en anchura es completa, si la ejecución no termina, es porque esa configuración inicial no tiene solución.\n",
    "2. depth_first_graph_search(estado).solution():\\\n",
    "Como la búsqueda en profundidad con repeticiones es completa, si la configuración inicial tiene solución la ejecución debe terminar. En este caso, la ejecución termina pero tarda mucho."
   ]
  },
  {
   "cell_type": "markdown",
   "metadata": {},
   "source": [
    "### Ejercicio 3:  Definición de heurísticas\n",
    "\n",
    "#### Para el problema de los misioneros define una heurística y comenta sus propiedades\n",
    "Heurística:\\\n",
    "Si no tenemos en cuenta la precondición de que los caníbales se comen a los misioneros.\\\n",
    "En esta interpretación, como hace falta una persona que lleve la barca, nos costará dos viajes transportar una persona a la otra orilla y volver a la posición previa. También debemos tener en cuenta que la barca tiene que quedar en la orilla derecha, un matiz que resolvemos restando el tercer atributo del estado."
   ]
  },
  {
   "cell_type": "code",
   "execution_count": 32,
   "metadata": {},
   "outputs": [],
   "source": [
    "# Heuristicas para el problema de los misioneros.\n",
    "\n",
    "def misioneros_heuristica(node):\n",
    "    state = node.state\n",
    "    h = 2 * (state[0] + state[1]) - state[2]\n",
    "    return h"
   ]
  },
  {
   "cell_type": "markdown",
   "metadata": {},
   "source": [
    "#### Para el problema del puzle de 8 se pide definir al menos las siguientes funciones heurísticas:\n",
    "* linear(node): cuenta el número de casillas mal colocadas respecto al estado final.\n",
    "* manhattan(node): suma la distancia Manhattan desde cada casilla a la posición en la que debería estar en el estado final.\n",
    "* max_heuristic(node: maximo de las dos anteriores\n",
    "* sqrt_manhattan(node):  raíz cuadrada de la distancia Manhattan"
   ]
  },
  {
   "cell_type": "code",
   "execution_count": 33,
   "metadata": {},
   "outputs": [],
   "source": [
    "# Heuristicas para el 8 Puzzle.\n",
    "# Puedes definir las funciones fuera de la clase ya que en la llamada a A* puedes pasar el nombre de la función. \n",
    "import math\n",
    "\n",
    "def linear(node):\n",
    "    state = node.state\n",
    "    #goal = node.state.goal\n",
    "    goal = (1,2,3,4,5,6,7,8,0)\n",
    "    numDescolocadas = 0;\n",
    "    for i in range(0,8):\n",
    "        if node.state[i] != goal[i]:\n",
    "            numDescolocadas += 1\n",
    "    return numDescolocadas\n",
    "\n",
    "def manhattan(node):\n",
    "    state = node.state\n",
    "    mhd = 0;\n",
    "    for i in range(0,8):\n",
    "        fila_state = i // 3\n",
    "        col_state = i % 3\n",
    "        \n",
    "        piece = state[i]\n",
    "        if piece == 0:\n",
    "            fila_goal = 2\n",
    "            col_goal = 2\n",
    "        else:\n",
    "            fila_goal = (piece - 1) // 3\n",
    "            col_goal = (piece -1) % 3\n",
    "        \n",
    "        mhd += abs(fila_state - fila_goal) + abs(col_state - col_goal)\n",
    "    return mhd\n",
    "\n",
    "def sqrt_manhattan(node):\n",
    "    state = node.state\n",
    "    mhd = 0;\n",
    "    for i in range(0,8):\n",
    "        fila_state = i // 3\n",
    "        col_state = i % 3\n",
    "        \n",
    "        piece = state[i]\n",
    "        if piece == 0:\n",
    "            fila_goal = 2\n",
    "            col_goal = 2\n",
    "        else:\n",
    "            fila_goal = (piece - 1) // 3\n",
    "            col_goal = (piece -1) % 3\n",
    "        \n",
    "        mhd += abs(fila_state - fila_goal) + abs(col_state - col_goal)\n",
    "    return math.sqrt(mhd)\n",
    "\n",
    "def max_heuristic(node):\n",
    "    score1 = manhattan(node)\n",
    "    score2 = linear(node)\n",
    "    return max(score1, score2)"
   ]
  },
  {
   "cell_type": "markdown",
   "metadata": {},
   "source": [
    "### Ejercicio 4. \n",
    "Usar las implementaciones de los algoritmos que correspondan a búsqueda_coste_uniforme, busqueda_primero_el_mejor y búsqueda_a_estrella (con las heurísticas anteriores) para resolver el problema del 8 puzzle para el siguiente **estado inicial** y comparar los costes temporales usando %timeit y comentar los resultados.\n",
    "\n",
    "              +---+---+---+\n",
    "              | 2 | 4 | 3 |\n",
    "              +---+---+---+\n",
    "              | 1 | 5 | 6 |\n",
    "              +---+---+---+\n",
    "              | 7 | 8 | H |\n",
    "              +---+---+---+\n"
   ]
  },
  {
   "cell_type": "code",
   "execution_count": 34,
   "metadata": {},
   "outputs": [
    {
     "data": {
      "text/plain": [
       "['Mover hueco arriba',\n",
       " 'Mover hueco izquierda',\n",
       " 'Mover hueco arriba',\n",
       " 'Mover hueco izquierda',\n",
       " 'Mover hueco abajo',\n",
       " 'Mover hueco derecha',\n",
       " 'Mover hueco derecha',\n",
       " 'Mover hueco abajo']"
      ]
     },
     "execution_count": 34,
     "metadata": {},
     "output_type": "execute_result"
    }
   ],
   "source": [
    "puzle = Ocho_Puzzle((2, 4, 3, 1, 5, 6, 7, 8, 0)) \n",
    "astar_search(puzle).solution()"
   ]
  },
  {
   "cell_type": "code",
   "execution_count": 35,
   "metadata": {},
   "outputs": [
    {
     "data": {
      "text/plain": [
       "['Mover hueco arriba',\n",
       " 'Mover hueco izquierda',\n",
       " 'Mover hueco arriba',\n",
       " 'Mover hueco izquierda',\n",
       " 'Mover hueco abajo',\n",
       " 'Mover hueco derecha',\n",
       " 'Mover hueco derecha',\n",
       " 'Mover hueco abajo']"
      ]
     },
     "execution_count": 35,
     "metadata": {},
     "output_type": "execute_result"
    }
   ],
   "source": [
    "astar_search(puzle,manhattan).solution()"
   ]
  },
  {
   "cell_type": "code",
   "execution_count": 36,
   "metadata": {},
   "outputs": [
    {
     "data": {
      "text/plain": [
       "(2, 4, 3, 1, 5, 6, 7, 8, 0)"
      ]
     },
     "execution_count": 36,
     "metadata": {},
     "output_type": "execute_result"
    }
   ],
   "source": [
    "puzle.initial"
   ]
  },
  {
   "cell_type": "code",
   "execution_count": 37,
   "metadata": {},
   "outputs": [
    {
     "data": {
      "text/plain": [
       "(1, 2, 3, 4, 5, 6, 7, 8, 0)"
      ]
     },
     "execution_count": 37,
     "metadata": {},
     "output_type": "execute_result"
    }
   ],
   "source": [
    "puzle.goal"
   ]
  },
  {
   "cell_type": "code",
   "execution_count": 38,
   "metadata": {},
   "outputs": [
    {
     "data": {
      "text/plain": [
       "['Mover hueco arriba',\n",
       " 'Mover hueco izquierda',\n",
       " 'Mover hueco arriba',\n",
       " 'Mover hueco izquierda',\n",
       " 'Mover hueco abajo',\n",
       " 'Mover hueco derecha',\n",
       " 'Mover hueco derecha',\n",
       " 'Mover hueco abajo']"
      ]
     },
     "execution_count": 38,
     "metadata": {},
     "output_type": "execute_result"
    }
   ],
   "source": [
    "astar_search(puzle,linear).solution()"
   ]
  },
  {
   "cell_type": "code",
   "execution_count": 39,
   "metadata": {},
   "outputs": [
    {
     "data": {
      "text/plain": [
       "['Mover hueco arriba',\n",
       " 'Mover hueco izquierda',\n",
       " 'Mover hueco arriba',\n",
       " 'Mover hueco izquierda',\n",
       " 'Mover hueco abajo',\n",
       " 'Mover hueco derecha',\n",
       " 'Mover hueco derecha',\n",
       " 'Mover hueco abajo']"
      ]
     },
     "execution_count": 39,
     "metadata": {},
     "output_type": "execute_result"
    }
   ],
   "source": [
    "astar_search(puzle,max_heuristic).solution()"
   ]
  },
  {
   "cell_type": "markdown",
   "metadata": {},
   "source": [
    "¿Has notado diferencias en los tiempos de ejecución? Vamos a medirlo. Aunque las heurísticas no afectan a la solución obtenida sí hay diferencias importantes en el tiempo de cálculo\n",
    "<br>"
   ]
  },
  {
   "cell_type": "code",
   "execution_count": 40,
   "metadata": {},
   "outputs": [],
   "source": [
    "puzzle_1 = Ocho_Puzzle((2, 4, 3, 1, 5, 6, 7, 8, 0))\n",
    "puzzle_2 = Ocho_Puzzle((1, 2, 3, 4, 5, 6, 0, 7, 8))\n",
    "puzzle_3 = Ocho_Puzzle((1, 2, 3, 4, 5, 7, 8, 6, 0))"
   ]
  },
  {
   "cell_type": "code",
   "execution_count": 41,
   "metadata": {},
   "outputs": [
    {
     "name": "stdout",
     "output_type": "stream",
     "text": [
      "2.91 ms ± 172 µs per loop (mean ± std. dev. of 7 runs, 100 loops each)\n"
     ]
    }
   ],
   "source": [
    "%%timeit\n",
    "astar_search(puzzle_1, linear)\n",
    "astar_search(puzzle_2, linear)\n",
    "astar_search(puzzle_3, linear)"
   ]
  },
  {
   "cell_type": "code",
   "execution_count": 42,
   "metadata": {},
   "outputs": [
    {
     "name": "stdout",
     "output_type": "stream",
     "text": [
      "2.72 ms ± 92.7 µs per loop (mean ± std. dev. of 7 runs, 100 loops each)\n"
     ]
    }
   ],
   "source": [
    "%%timeit\n",
    "astar_search(puzzle_1, manhattan)\n",
    "astar_search(puzzle_2, manhattan)\n",
    "astar_search(puzzle_3, manhattan)"
   ]
  },
  {
   "cell_type": "code",
   "execution_count": 43,
   "metadata": {},
   "outputs": [
    {
     "name": "stdout",
     "output_type": "stream",
     "text": [
      "33.1 ms ± 2.69 ms per loop (mean ± std. dev. of 7 runs, 10 loops each)\n"
     ]
    }
   ],
   "source": [
    "%%timeit\n",
    "astar_search(puzzle_1, sqrt_manhattan)\n",
    "astar_search(puzzle_2, sqrt_manhattan)\n",
    "astar_search(puzzle_3, sqrt_manhattan)"
   ]
  },
  {
   "cell_type": "code",
   "execution_count": 44,
   "metadata": {},
   "outputs": [
    {
     "name": "stdout",
     "output_type": "stream",
     "text": [
      "3.06 ms ± 281 µs per loop (mean ± std. dev. of 7 runs, 100 loops each)\n"
     ]
    }
   ],
   "source": [
    "%%timeit\n",
    "astar_search(puzzle_1, max_heuristic)\n",
    "astar_search(puzzle_2, max_heuristic)\n",
    "astar_search(puzzle_3, max_heuristic)"
   ]
  },
  {
   "cell_type": "markdown",
   "metadata": {},
   "source": [
    "#### Escribe aquí tus conclusiones sobre qué heurística es mejor y por qué.\n",
    "Hemos analizado las heurísticas: linear, manhattan, sqrt_manhattan y max_heuristic.\\\n",
    "Visto el cálculo en tiempo del algoritmo A estrella en las distintas heurísticas, podemos concluir:\n",
    "**La mejor heurística es la Manhattan.**\\\n",
    "Atendiendo a sus características, podemos decir que la manhattan es la mejor porque es la mas informada. Veámoslo:\n",
    "* manhattan es más informada que linear (manhattan(n) >= linear(n)) porque manhattan(n) $\\in$ (1,...,4) y linear(n) = 1 si la pieza está mal colocada, en cambio ambas son 0 si la pieza está correcta.\n",
    "* manhattan es más informada que sqrt_manhattan porque manhattan(n) >= sqrt(manhattan(n)) = sqrt_manhattan(n) para cualquier n.\n",
    "* max_heuristic tiene que calcular las heurísticas linear y manhattan y después elegir la mejor. Esto ralentiza el cálculo y por tanto es peor que manhattan."
   ]
  },
  {
   "cell_type": "markdown",
   "metadata": {},
   "source": [
    "## Parte III:  Calcular estadísticas sobre la ejecución de los algoritmos para resolución de problemas de ocho puzzle. \n",
    "### El objetivo es comprobar experimentalmente las propiedades teóricas de los algoritmos vistas en clase.\n",
    "Usaremos la función %timeit para medir los tiempos y para el espacio una version modificada de Problema que almacena el número de nodos.\n",
    "\n"
   ]
  },
  {
   "cell_type": "markdown",
   "metadata": {},
   "source": [
    "En la clase modificada también vamos a incluir el calculo que nos diga si un cierto tablero tiene solución o no. Esto es muy útil.. como hemos comentado al principio solo algunos tableros tienen solucion. En el caso del puzle de 8 un tablero se ha demostrado que se puede comprobar calculando su paridad (o número de inversiones). Si es impar el tablero **no** tiene solución.  El concepto de inversión de una ficha será la suma del número de fichas que se encuentran en una posición superior a dicha ficha y que deberían estar situadas en una posición inferior. La inversión total será la suma de las inversiones individuales. Si este número es par, el puzzle tendrá solución. En caso contrario, no habrá solución. "
   ]
  },
  {
   "cell_type": "code",
   "execution_count": 45,
   "metadata": {},
   "outputs": [],
   "source": [
    "# Hacemos una definición ampliada de la clase Problem de AIMA que nos va a permitir experimentar con distintos\n",
    "# estados iniciales, algoritmos y heurísticas, para resolver el 8-puzzle. \n",
    "# The solvability of a configuration can be checked by calculating the Inversion Permutation. If the total Inversion Permutation is even then the initial configuration is solvable else the initial configuration is not solvable which means that only 9!/2 initial states lead to a solution.\n",
    "# Añadimos en la clase ampliada la capacidad para contar el número de nodos analizados durante la\n",
    "# búsqueda:\n",
    "\n",
    "\n",
    "class Problema_con_Analizados(Problem):\n",
    "\n",
    "    \"\"\"Es un problema que se comporta exactamente igual que el que recibe al\n",
    "       inicializarse, y además incorpora unos atributos nuevos para almacenar el\n",
    "       número de nodos analizados durante la búsqueda. De esta manera, no\n",
    "       tenemos que modificar el código del algoritmo de búsqueda.\"\"\" \n",
    "         \n",
    "    def __init__(self, problem):\n",
    "        self.initial = problem.initial\n",
    "        self.problem = problem\n",
    "        self.analizados  = 0\n",
    "        self.goal = problem.goal\n",
    "\n",
    "    def actions(self, estado):\n",
    "        return self.problem.actions(estado)\n",
    "\n",
    "    def result(self, estado, accion):\n",
    "        return self.problem.result(estado, accion)\n",
    "\n",
    "    def goal_test(self, estado):\n",
    "        self.analizados += 1\n",
    "        return self.problem.goal_test(estado)\n",
    "\n",
    "    def coste_de_aplicar_accion(self, estado, accion):\n",
    "        return self.problem.coste_de_aplicar_accion(estado,accion)\n",
    "    \n",
    "    def check_solvability(self, state):\n",
    "        \"\"\" Checks if the given state is solvable \"\"\"\n",
    "\n",
    "        inversion = 0\n",
    "        for i in range(len(state)):\n",
    "            for j in range(i+1, len(state)):\n",
    "                if (state[i] > state[j]) and state[i] != 0 and state[j]!= 0:\n",
    "                    inversion += 1\n",
    "        \n",
    "        return inversion % 2 == 0        "
   ]
  },
  {
   "cell_type": "code",
   "execution_count": 46,
   "metadata": {},
   "outputs": [],
   "source": [
    "estado_inicial = (1,2,3,4,5,6,7,0,8)\n",
    "p8p = Problema_con_Analizados(Ocho_Puzzle(estado_inicial))\n",
    "p8 = Ocho_Puzzle(estado_inicial)"
   ]
  },
  {
   "cell_type": "code",
   "execution_count": 47,
   "metadata": {},
   "outputs": [
    {
     "data": {
      "text/plain": [
       "(1, 2, 3, 4, 5, 6, 7, 0, 8)"
      ]
     },
     "execution_count": 47,
     "metadata": {},
     "output_type": "execute_result"
    }
   ],
   "source": [
    "p8p.initial"
   ]
  },
  {
   "cell_type": "code",
   "execution_count": 48,
   "metadata": {},
   "outputs": [
    {
     "data": {
      "text/plain": [
       "(1, 2, 3, 4, 5, 6, 7, 8, 0)"
      ]
     },
     "execution_count": 48,
     "metadata": {},
     "output_type": "execute_result"
    }
   ],
   "source": [
    "p8p.goal"
   ]
  },
  {
   "cell_type": "code",
   "execution_count": 49,
   "metadata": {},
   "outputs": [
    {
     "data": {
      "text/plain": [
       "['Mover hueco arriba',\n",
       " 'Mover hueco izquierda',\n",
       " 'Mover hueco arriba',\n",
       " 'Mover hueco izquierda',\n",
       " 'Mover hueco abajo',\n",
       " 'Mover hueco derecha',\n",
       " 'Mover hueco derecha',\n",
       " 'Mover hueco abajo']"
      ]
     },
     "execution_count": 49,
     "metadata": {},
     "output_type": "execute_result"
    }
   ],
   "source": [
    "puzzle_1 = Ocho_Puzzle((2, 4, 3, 1, 5, 6, 7, 8, 0))\n",
    "astar_search(puzzle_1,manhattan).solution()"
   ]
  },
  {
   "cell_type": "code",
   "execution_count": 50,
   "metadata": {},
   "outputs": [
    {
     "data": {
      "text/plain": [
       "['Mover hueco derecha']"
      ]
     },
     "execution_count": 50,
     "metadata": {},
     "output_type": "execute_result"
    }
   ],
   "source": [
    "astar_search(p8,manhattan).solution()"
   ]
  },
  {
   "cell_type": "code",
   "execution_count": 51,
   "metadata": {},
   "outputs": [
    {
     "data": {
      "text/plain": [
       "['Mover hueco derecha']"
      ]
     },
     "execution_count": 51,
     "metadata": {},
     "output_type": "execute_result"
    }
   ],
   "source": [
    "astar_search(p8p,manhattan).solution()"
   ]
  },
  {
   "cell_type": "code",
   "execution_count": 52,
   "metadata": {},
   "outputs": [],
   "source": [
    "def resuelve_ocho_puzzle(estado_inicial, algoritmo, h=None):\n",
    "    \"\"\"Función para aplicar un algoritmo de búsqueda dado al problema del ocho\n",
    "       puzzle, con un estado inicial dado y (cuando el algoritmo lo necesite)\n",
    "       una heurística dada.\n",
    "       Ejemplo de uso:\n",
    "           puzzle_1 = (2, 4, 3, 1, 5, 6, 7, 8, 0)\n",
    "           resuelve_ocho_puzzle(puzzle_1,astar_search,h2_ocho_puzzle)\n",
    "        Solución: ['Mover hueco arriba', 'Mover hueco izquierda', 'Mover hueco arriba', \n",
    "        'Mover hueco izquierda', 'Mover hueco abajo', 'Mover hueco derecha', 'Mover hueco derecha', 'Mover hueco abajo']\n",
    "        Algoritmo: astar_search\n",
    "        Heurística: h2_ocho_puzzle\n",
    "        Longitud de la solución: 8. Nodos analizados: 11\n",
    "       \"\"\"\n",
    "\n",
    "    p8p=Problema_con_Analizados(Ocho_Puzzle(estado_inicial))\n",
    "    if p8p.check_solvability(estado_inicial):\n",
    "        if h: \n",
    "            sol= algoritmo(p8p,h).solution()\n",
    "        else: \n",
    "            sol= algoritmo(p8p).solution()\n",
    "        print(\"Solución: {0}\".format(sol))\n",
    "        print(\"Algoritmo: {0}\".format(algoritmo.__name__))\n",
    "        if h: \n",
    "            print(\"Heurística: {0}\".format(h.__name__))\n",
    "        else:\n",
    "            pass\n",
    "        print(\"Longitud de la solución: {0}. Nodos analizados: {1}\".format(len(sol),p8p.analizados))\n",
    "    else: \n",
    "        print(\"Este problema no tiene solucion. \")\n"
   ]
  },
  {
   "cell_type": "code",
   "execution_count": 53,
   "metadata": {},
   "outputs": [
    {
     "name": "stdout",
     "output_type": "stream",
     "text": [
      "Solución: ['Mover hueco derecha']\n",
      "Algoritmo: astar_search\n",
      "Heurística: manhattan\n",
      "Longitud de la solución: 1. Nodos analizados: 2\n"
     ]
    }
   ],
   "source": [
    "resuelve_ocho_puzzle(estado_inicial,astar_search,manhattan)"
   ]
  },
  {
   "cell_type": "markdown",
   "metadata": {},
   "source": [
    "### Ejercicio 5:  resolver usando las distintas búsquedas y en su caso, las distintas heurísticas, el problema del 8 puzzle para los siguientes estados iniciales:"
   ]
  },
  {
   "cell_type": "code",
   "execution_count": 54,
   "metadata": {},
   "outputs": [],
   "source": [
    "E1 = (2,1,3,4,8,6,7,0,5)\n",
    "E2 = (1,0,3,4,8,6,7,2,5)\n",
    "E3 = (4,5,6,1,0,3,7,8,2)\n",
    "E4 = (1,2,3,0,5,6,4,7,8)\n",
    "p1 = Ocho_Puzzle(E1)\n",
    "p2 = Ocho_Puzzle(E2)\n",
    "p3 = Ocho_Puzzle(E3)\n",
    "p4 = Ocho_Puzzle(E4)"
   ]
  },
  {
   "cell_type": "markdown",
   "metadata": {},
   "source": [
    "          E1              E2              E3              E4\n",
    "           \n",
    "     +---+---+---+   +---+---+---+   +---+---+---+   +---+---+---+    \n",
    "     | 2 | 1 | 3 |   | 1 | 0 | 3 |   | 4 | 5 | 6 |   | 1 | 2 | 3 |\n",
    "     +---+---+---+   +---+---+---+   +---+---+---+   +---+---+---+\n",
    "     | 4 | 8 | 6 |   | 4 | 8 | 6 |   | 1 | 0 | 3 |   | H | 5 | 6 |\n",
    "     +---+---+---+   +---+---+---+   +---+---+---+   +---+---+---+\n",
    "     | 7 | H | 5 |   | 7 | 2 | 5 |   | 7 | 8 | 2 |   | 4 | 7 | 8 |\n",
    "     +---+---+---+   +---+---+---+   +---+---+---+   +---+---+---+\n",
    "   \n",
    "   \n",
    " Se pide, en cada caso, obtener detalles del tiempo y espacio necesario para la resolución de estos estados.\n",
    " Hacerlo con la función resuelve_ocho_puzzle, para\n",
    " obtener, además de la solución, la longitud (el coste) de la solución\n",
    " obtenida y el número de nodos analizados. Anotar los resultados en la\n",
    " siguiente tabla (L, longitud de la solución, NA, nodos analizados, T, tiempo, y\n",
    " **justificar los resultados con las distintas propiedades teóricas estudiadas en clase**. "
   ]
  },
  {
   "cell_type": "markdown",
   "metadata": {},
   "source": [
    "                                       E1           E2           E3          E4\n",
    "                                       \n",
    "    Anchura                            L= 17        L= 11        L= 20       L= 3\n",
    "                                       T= 6.81s     T= 55.8 ms   T= 1min 23s T= 39.4 µs \n",
    "                                       NA= 13634    NA= 1255     NA= 57057   NA= 13\n",
    "   \n",
    "    Profundidad                        L= 7977      L= 52429     L= 39720    L= 27  \n",
    "                                       T= 7.83 s    T= 6min 25s  T= 3min 11s T= 283 µs\n",
    "                                       NA= 8198     NA= 60036    NA= 42926   NA= 28\n",
    "\n",
    "                                       \n",
    "    Coste Uniforme                     L= 17        L= 11        L= 20       L= 3\n",
    "                                       T= 45 s      T= 167 ms    T= 9m 45s   T= 153 µs \n",
    "                                       NA= 14092    NA= 870      NA= 48428   NA= 13\n",
    "                                                                            \n",
    "    Primero el mejor (linear)          L= 39        L= 33        L= 76       L= 3\n",
    "                                       T= 8.29 ms   T= 2.34 ms   T= 129 ms   T= 40.1 µs \n",
    "                                       NA= 171      NA= 78       NA= 747     NA= 4\n",
    "                                                                            \n",
    "    Primero el mejor (manhattan)       L= 25        L= 15        L= 38       L= 3 \n",
    "                                       T= 8.97 ms   T= 1.47 ms   T= 13.5 ms  T= 48.3 µs \n",
    "                                       NA= 175      NA= 53       NA= 220     NA= 4\n",
    "                                                                             \n",
    "    A* (linear)                        L= 17        L= 11        L= 20       L= 3 \n",
    "                                       T= 162 ms    T= 2.54 ms   T= 2.31 s   T= 45.3 µs \n",
    "                                       NA= 433      NA= 74       NA= 3230    NA= 4\n",
    "                                                                             \n",
    "    A* (manhattan)                     L= 17        L= 11        L= 20       L= 3\n",
    "                                       T= 51 ms     T= 1.42 ms   T= 640 ms   T= 50.7 µs\n",
    "                                       NA= 433      NA= 49       NA= 1636    NA= 4"
   ]
  },
  {
   "cell_type": "markdown",
   "metadata": {},
   "source": [
    "Vistos los resultados previos, podemos concluir que las búsquedas ciegas son mucho menos eficientes que las búsquedas informadas. Es decir, a medida que el número de nodos aumenta, la búsqueda ciega se convierte en un método poco útil; mientras que la búsqueda informada, obtiene unos resultados muy satisfactorios.\\\n",
    "Además, dentro de la búsqueda informada, podemos apreciar diferencias entre el número de nodos generados por las distintas heurísticas: por norma general, la heurística manhattan generó menos nodos que la heurística linear. Esto provoca que el tiempo de ejecución se reduzca aproximadamente de forma proporcional."
   ]
  },
  {
   "cell_type": "markdown",
   "metadata": {},
   "source": [
    "\n",
    "### Ejercicio 6:  En el ejercicio anterior hemos hecho pruebas con distintos estados iniciales. Explica cómo afecta a la resolución del problema si lo que cambiamos es el estado objetivo.\n",
    "En vez de  goal = (1, 2, 3, 4, 5, 6, 7, 8, 0) queremos usar goal2 = (1, 2, 3, 4, 0, 5, 6, 7, 8).\n",
    "####  No es necesario repetir los experimentos pero sí justificar convenientemente la respuesta dada."
   ]
  },
  {
   "cell_type": "markdown",
   "metadata": {},
   "source": [
    "Dado otro objetivo, si la búsqueda es informada, el resultado es parecido al del ejercicio anterior o proporcional entre los distintos estados iniciales, algoritmos de búsqueda y heurísticas, porque le estoy dando información para que lo resuelva igual que lo resolvía antes; pero, si la búsqueda es ciega, puede que este objetivo sea más fácil de alcanzar que antes y que disminuyan los tiempos; aunque las conclusiones sobre eficiencia que sacamos son las mismas."
   ]
  },
  {
   "cell_type": "markdown",
   "metadata": {},
   "source": [
    "### Ejercicio 7: (opcional) Definir nuevas heurísticas (más informadas) y completa una nueva fila de la tabla anterior para ver cómo afecta al número de nodos generados por los algoritmos"
   ]
  },
  {
   "cell_type": "code",
   "execution_count": 55,
   "metadata": {},
   "outputs": [],
   "source": [
    "# Proponemos como ejemplo la heurística h3 que se obtiene sumando a la heurística\n",
    "# manhattan una componente que cuantifica la \"secuencialidad\" en las\n",
    "# casillas de un tablero, al recorrerlo en el sentido de las aguas del reloj\n",
    "# ¿Es h3 admisble? Comprobar cómo se comporta esta heurística cuando se usa en\n",
    "# A*, con cada uno de los estados anteriores. Comentar los resultados."
   ]
  },
  {
   "cell_type": "code",
   "execution_count": 56,
   "metadata": {},
   "outputs": [],
   "source": [
    "def h3(node):\n",
    "    # En cada casilla almacenamos el indice de la posicion siguiente en sentido horario.\n",
    "    next_ocho_puzle = (1,2,5,0,4,8,3,6,7)\n",
    "      \n",
    "    def sec(node):\n",
    "        state = node.state\n",
    "        sol_aux = 0\n",
    "        sol = 0\n",
    "        \n",
    "        for i in range(0,8):\n",
    "            piece = state[i]\n",
    "            \n",
    "            if piece == 0: sol_aux = 0\n",
    "            elif i == 4: sol_aux = 0\n",
    "            else:\n",
    "                if piece < 8: piece_next = piece + 1\n",
    "                else: piece_next = 1\n",
    "                if piece_next == state[next_ocho_puzle[i]]: sol_aux = 1\n",
    "                else: sol_aux = 2\n",
    "                \n",
    "            sol += sol_aux\n",
    "        \n",
    "        return sol\n",
    "            \n",
    "    return manhattan(node) + sec(node)"
   ]
  },
  {
   "cell_type": "code",
   "execution_count": 57,
   "metadata": {
    "scrolled": true
   },
   "outputs": [
    {
     "name": "stdout",
     "output_type": "stream",
     "text": [
      "Solución: ['Mover hueco arriba', 'Mover hueco arriba', 'Mover hueco derecha', 'Mover hueco abajo', 'Mover hueco abajo', 'Mover hueco izquierda', 'Mover hueco izquierda', 'Mover hueco arriba', 'Mover hueco derecha', 'Mover hueco derecha', 'Mover hueco arriba', 'Mover hueco izquierda', 'Mover hueco izquierda', 'Mover hueco abajo', 'Mover hueco abajo', 'Mover hueco derecha', 'Mover hueco derecha']\n",
      "Algoritmo: astar_search\n",
      "Heurística: h3\n",
      "Longitud de la solución: 17. Nodos analizados: 405\n"
     ]
    }
   ],
   "source": [
    "resuelve_ocho_puzzle(E1, astar_search, h3)"
   ]
  },
  {
   "cell_type": "code",
   "execution_count": 58,
   "metadata": {},
   "outputs": [
    {
     "name": "stdout",
     "output_type": "stream",
     "text": [
      "47.3 ms ± 2.62 ms per loop (mean ± std. dev. of 7 runs, 10 loops each)\n"
     ]
    }
   ],
   "source": [
    "%%timeit\n",
    "astar_search(p1,h3)"
   ]
  },
  {
   "cell_type": "code",
   "execution_count": 59,
   "metadata": {},
   "outputs": [
    {
     "name": "stdout",
     "output_type": "stream",
     "text": [
      "Solución: ['Mover hueco derecha', 'Mover hueco abajo', 'Mover hueco izquierda', 'Mover hueco abajo', 'Mover hueco derecha', 'Mover hueco arriba', 'Mover hueco arriba', 'Mover hueco izquierda', 'Mover hueco abajo', 'Mover hueco abajo', 'Mover hueco derecha']\n",
      "Algoritmo: astar_search\n",
      "Heurística: h3\n",
      "Longitud de la solución: 11. Nodos analizados: 47\n"
     ]
    }
   ],
   "source": [
    "resuelve_ocho_puzzle(E2, astar_search, h3)"
   ]
  },
  {
   "cell_type": "code",
   "execution_count": 60,
   "metadata": {},
   "outputs": [
    {
     "name": "stdout",
     "output_type": "stream",
     "text": [
      "1.58 ms ± 112 µs per loop (mean ± std. dev. of 7 runs, 1000 loops each)\n"
     ]
    }
   ],
   "source": [
    "%%timeit\n",
    "astar_search(p2,h3)"
   ]
  },
  {
   "cell_type": "code",
   "execution_count": 61,
   "metadata": {},
   "outputs": [
    {
     "name": "stdout",
     "output_type": "stream",
     "text": [
      "Solución: ['Mover hueco derecha', 'Mover hueco arriba', 'Mover hueco izquierda', 'Mover hueco abajo', 'Mover hueco izquierda', 'Mover hueco abajo', 'Mover hueco derecha', 'Mover hueco derecha', 'Mover hueco arriba', 'Mover hueco arriba', 'Mover hueco izquierda', 'Mover hueco abajo', 'Mover hueco abajo', 'Mover hueco izquierda', 'Mover hueco arriba', 'Mover hueco arriba', 'Mover hueco derecha', 'Mover hueco abajo', 'Mover hueco derecha', 'Mover hueco abajo']\n",
      "Algoritmo: astar_search\n",
      "Heurística: h3\n",
      "Longitud de la solución: 20. Nodos analizados: 1378\n"
     ]
    }
   ],
   "source": [
    "resuelve_ocho_puzzle(E3, astar_search, h3)"
   ]
  },
  {
   "cell_type": "code",
   "execution_count": 62,
   "metadata": {},
   "outputs": [
    {
     "name": "stdout",
     "output_type": "stream",
     "text": [
      "585 ms ± 40.3 ms per loop (mean ± std. dev. of 7 runs, 1 loop each)\n"
     ]
    }
   ],
   "source": [
    "%%timeit\n",
    "astar_search(p3,h3)"
   ]
  },
  {
   "cell_type": "code",
   "execution_count": 63,
   "metadata": {},
   "outputs": [
    {
     "name": "stdout",
     "output_type": "stream",
     "text": [
      "Solución: ['Mover hueco abajo', 'Mover hueco derecha', 'Mover hueco derecha']\n",
      "Algoritmo: astar_search\n",
      "Heurística: h3\n",
      "Longitud de la solución: 3. Nodos analizados: 4\n"
     ]
    }
   ],
   "source": [
    "resuelve_ocho_puzzle(E4, astar_search, h3)"
   ]
  },
  {
   "cell_type": "code",
   "execution_count": 64,
   "metadata": {},
   "outputs": [
    {
     "name": "stdout",
     "output_type": "stream",
     "text": [
      "86.8 µs ± 7.16 µs per loop (mean ± std. dev. of 7 runs, 10000 loops each)\n"
     ]
    }
   ],
   "source": [
    "%%timeit\n",
    "astar_search(p4,h3)"
   ]
  },
  {
   "cell_type": "markdown",
   "metadata": {},
   "source": [
    "                                       E1           E2           E3          E4\n",
    "                                       \n",
    "    A* (h3)                            L= 17        L= 11        L= 20       L= 3\n",
    "                                       T= 47.3 ms   T= 1.58 ms   T= 585 ms   T= 86.8 µs\n",
    "                                       NA= 405      NA= 47       NA= 1378    NA= 4"
   ]
  },
  {
   "cell_type": "markdown",
   "metadata": {},
   "source": [
    "##### Conclusiones\n",
    "A la vista de los resultados de la heurística h3, hemos conseguido reducir el número de nodos analizados en todos los estados iniciales.\\\n",
    "En cambio, el tiempo de cómputo solo ha mejorado en los casos E1 y E3, donde se ha reducido más significativamente el número de nodos. Y es que el incremento de la complejidad computacional, hace que aumente también el tiempo por ciclo."
   ]
  },
  {
   "cell_type": "markdown",
   "metadata": {},
   "source": [
    "### Ejercicio 8. Puzle de 15.\n",
    "En 1878, Sam Loyd daba un premio de 1.000 dolares a quien fuera capaz de resolver su famoso 15 Puzzle (n=16). Se trataba de un puzzle deslizante de 16 piezas que *no tenía solución* debido que se necesitaba un número impar de movimientos y, como hemos visto, sólo un número de movimientos par tiene solución. Muchas personas trataron de resolverlo.\\\n",
    "El número de posibles estados iniciales es n!, siendo n el número de fichas (números y hueco). Por tanto, en el puzle 4x4 (16 fichas), tendremos más de 130.000 millones de posibles estados iniciales. Sin embargo, sólo la mitad de esas combinaciones tiene solución.\\\n",
    "En el caso del siguiente estado inicial que sí tiene solución:  (1,2,3,4,5,6,7,8,9,10,12,15,13,14,11,0) indica los nodos generados por A* con alguna de las heurísticas y comparalo con el puzle de 8.\n"
   ]
  },
  {
   "cell_type": "markdown",
   "metadata": {},
   "source": [
    "     +---+---+---+---+  \n",
    "     | 1 | 2 | 3 | 4 |\n",
    "     +---+---+---+---+\n",
    "     | 5 | 6 | 7 | 8 |\n",
    "     +---+---+---+---+\n",
    "     | 9 |10 |12 |15 |\n",
    "     +---+---+---+---+\n",
    "     |13 |14 |11 | 0 |\n",
    "     +---+---+---+---+\n",
    "     \n",
    "     Analicemos el árbol de posibilidades:\n",
    "     (Véase que basta con representar la submatriz 2x2 de la esquina inferior derecha)\n",
    "     \n",
    "     +---+---+     +---+---+\n",
    "     |12 |15 |     |12 |15 |\n",
    "     +---+---+ --> +---+---+\n",
    "     |11 | 0 |     | 0 |11 |\n",
    "     +---+---+     +---+---+\n",
    "                   +---+---+     +---+---+     +---+---+     +---+---+\n",
    "                   |12 | 0 |     | 0 |12 |     |11 |12 |     |11 |12 |\n",
    "               --> +---+---+ --> +---+---+ --> +---+---+ --> +---+---+ - Objetivo\n",
    "                   |11 |15 |     |11 |15 |     | 0 |15 |     |15 | 0 |\n",
    "                   +---+---+     +---+---+     +---+---+     +---+---+\n",
    "                   \n",
    "     5 nodos generados.\n",
    "     \n",
    "     \n",
    "     \n",
    "     Si tuviéramos un problema análogo en un puzle de 8,\n",
    "     \n",
    "     +---+---+---+ \n",
    "     | 1 | 2 | 3 |\n",
    "     +---+---+---+\n",
    "     | 4 | 6 | 8 |\n",
    "     +---+---+---+\n",
    "     | 7 | 5 | 0 |\n",
    "     +---+---+---+\n",
    "     \n",
    "     Con A* también obtendríamos un árbol de exploración análogo:\n",
    "     \n",
    "     +---+---+     +---+---+\n",
    "     | 6 | 8 |     | 6 | 8 |\n",
    "     +---+---+ --> +---+---+\n",
    "     | 5 | 0 |     | 0 | 5 |\n",
    "     +---+---+     +---+---+\n",
    "                   +---+---+     +---+---+     +---+---+     +---+---+\n",
    "                   | 6 | 0 |     | 0 | 6 |     | 5 | 6 |     | 5 | 6 |\n",
    "               --> +---+---+ --> +---+---+ --> +---+---+ --> +---+---+ - Objetivo\n",
    "                   | 5 | 8 |     | 5 | 8 |     | 0 | 8 |     | 8 | 0 |\n",
    "                   +---+---+     +---+---+     +---+---+     +---+---+\n",
    "                   \n",
    "      5 nodos generados."
   ]
  }
 ],
 "metadata": {
  "kernelspec": {
   "display_name": "Python 3",
   "language": "python",
   "name": "python3"
  },
  "language_info": {
   "codemirror_mode": {
    "name": "ipython",
    "version": 3
   },
   "file_extension": ".py",
   "mimetype": "text/x-python",
   "name": "python",
   "nbconvert_exporter": "python",
   "pygments_lexer": "ipython3",
   "version": "3.8.3"
  }
 },
 "nbformat": 4,
 "nbformat_minor": 2
}
