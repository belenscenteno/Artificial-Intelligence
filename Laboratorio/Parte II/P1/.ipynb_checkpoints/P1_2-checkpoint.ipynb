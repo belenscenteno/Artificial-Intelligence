{
 "cells": [
  {
   "cell_type": "markdown",
   "metadata": {},
   "source": [
    "**Grupo 5**:  \n",
    "Belén Sánchez Centeno  \n",
    "Martín Fernández de Diego"
   ]
  },
  {
   "cell_type": "markdown",
   "metadata": {},
   "source": [
    "# Práctica 1\n",
    "\n",
    "> __Fecha de entrega: 11 de abril de 2021__\n",
    "\n",
    "\n",
    "## Parte 2: similitud semántica\n",
    "\n",
    "Una de las grandes ventajas de las representaciones estructuradas es que podemos aprovechar su estructura para calcular similitudes semánticas entre las entidades. En esta ocasión vamos a cacular la similitud entre dos conceptos como:\n",
    "\n",
    "$$Sim(A, B) = \\frac{\\delta(root, C)}{\\delta(root, C) + \\delta(C, A) + \\delta(C, B)}$$\n",
    "\n",
    "siendo:\n",
    "\n",
    "- $\\delta(X, Y)$ el __mínimo__ número de aristas que conecta A y B, siendo A más general que B.\n",
    "- $C = LCS(A, B)$ el concepto más específico de la jerarquía que es más general que A y B (_least common subsummer_).\n",
    "\n",
    "La idea tras esta similitud queda reflejada en la siguiente imagen:\n",
    "\n",
    "<img src=\"sim.png\" alt=\"Similitud\" style=\"width: 300px;\"/>\n",
    "\n",
    "En la práctica pueden existir distintos conceptos C que cumplen la definición de _least common subsummer_ de A y B por lo que es necesario definir cuál de ellos vamos a utilizar. En nuestro caso seleccionaremos __uno de los que maximiza el valor de similitud__. "
   ]
  },
  {
   "cell_type": "code",
   "execution_count": 8,
   "metadata": {},
   "outputs": [],
   "source": [
    "import json\n",
    "prefix = 'http://www.wikidata.org/entity/'\n",
    "\n",
    "class taxonomia(object):\n",
    "    \n",
    "    # Apartado 2\n",
    "    # carga toda la información del JSON en distintos diccionarios solicitados\n",
    "    def load(self,filename):\n",
    "        with open(filename, encoding='utf-8') as f:\n",
    "            data = json.load(f)\n",
    "        \n",
    "        listX = []\n",
    "        listXLabel = []\n",
    "        listY = []\n",
    "        listYLabel = []\n",
    "        for pair in data:\n",
    "            listX.append(pair['x'][len(prefix):])\n",
    "            listXLabel.append(pair['xLabel'])\n",
    "            listY.append(pair['y'][len(prefix):])\n",
    "            listYLabel.append(pair['yLabel'])\n",
    "        \n",
    "        # diccionario 1: instrumentos\n",
    "        self.instrumentsDict = dict(zip(listY,listYLabel))\n",
    "        # for i in range(len(listY)):\n",
    "        #    self.instrumentsDict[listX[i]] = listXLabel[i]\n",
    "        \n",
    "        # diccionario 2: subclases directas\n",
    "        # crea un diccionario de claves y y valor lista vacia\n",
    "        # despues introducimos su subclase x\n",
    "        # * Utilizamos la instruccion [len(prefix):] para tomar solo el ID de Wikidata\n",
    "        self.subclassDict = dict()\n",
    "        for y in listY:\n",
    "            self.subclassDict[y] = []\n",
    "        for pair in data:\n",
    "            self.subclassDict[pair['y'][len(prefix):]].append(pair['x'][len(prefix):])\n",
    "\n",
    "        # diccionario 3: superclases directas\n",
    "        # simetrico al anterior\n",
    "        self.superclassDict = dict()\n",
    "        for x in listX:\n",
    "            self.superclassDict[x] = []\n",
    "        for pair in data:\n",
    "            self.superclassDict[pair['x'][len(prefix):]].append(pair['y'][len(prefix):])\n",
    "    \n",
    "    \n",
    "    # Apartado 3\n",
    "    # imprime el nodo raiz del arbol\n",
    "    # y llama a la funcion recursiva print_level que imprime los niveles deseados\n",
    "    def print_tree(self,concept,level):\n",
    "        print('0',self.instrumentsDict[concept],'('+concept+')')\n",
    "        self.print_level(concept,1,level)\n",
    "    \n",
    "    # imprime cada hijo de la varibale concept y, si level lo pide,\n",
    "    # repite la operacion a sus hijos recursivamente\n",
    "    def print_level(self,concept,this_level,end_level):\n",
    "        for child in self.subclassDict[concept]:\n",
    "            print(' '*this_level,this_level,self.instrumentsDict[child],'('+child+')')\n",
    "            if this_level < end_level and child in self.subclassDict:\n",
    "                self.print_level(child,this_level+1,end_level)\n",
    "    \n",
    "    \n",
    "    # Apartado 4\n",
    "    # almacena en la lista superConcept los conceptos más generales al concept dado\n",
    "    def more_general(self,concept,superConcept):\n",
    "        if concept in self.superclassDict:\n",
    "            for father in self.superclassDict[concept]:\n",
    "                superConcept.append(father)\n",
    "                self.more_general(father,superConcept)\n",
    "    \n",
    "    # interseca las listas superConcept de ambos conceptos concept1 y concept2\n",
    "    # luego elimina de la lista interseccion aquellos conceptos que son superclase de otros\n",
    "    # así obtenemos los conceptos comunes inmediatamente superiores\n",
    "    # * Utilizamos la estructura de datos set para poder intersecar conjuntos\n",
    "    def LCS(self,concept1,concept2):\n",
    "        if concept1 == concept2:\n",
    "            print({concept1})\n",
    "        else:\n",
    "            moreGeneral1 = []\n",
    "            moreGeneral2 = []\n",
    "            self.more_general(concept1,moreGeneral1)\n",
    "            self.more_general(concept2,moreGeneral2)\n",
    "            intersection = set(moreGeneral1).intersection(moreGeneral2)\n",
    "            sol = []\n",
    "            for concept in intersection:\n",
    "                is_superconcept = False\n",
    "                for concept_aux in intersection:\n",
    "                    if concept_aux in self.superclassDict and concept in self.superclassDict[concept_aux]:\n",
    "                        is_superconcept = True\n",
    "                if not is_superconcept:\n",
    "                    sol.append(concept)   \n",
    "            print(set(sol))\n",
    "            \n",
    "            \n",
    "    # Apartado 5\n",
    "    def path(self, a, b):\n",
    "        if a == b:\n",
    "            return [a]\n",
    "        \n",
    "        visited = dict()\n",
    "        predecesor = dict()\n",
    "        for key in self.instrumentsDict:\n",
    "            visited[key] = False\n",
    "\n",
    "        queue = []\n",
    " \n",
    "        queue.append(a)\n",
    "        visited[a] = True\n",
    "        \n",
    "        found = False\n",
    "        \n",
    "        while queue and not found:\n",
    "\n",
    "            s = queue.pop(0)\n",
    "            #print (s)\n",
    "            \n",
    "            if s in self.subclassDict:\n",
    "                for i in self.subclassDict[s]:\n",
    "                    if i == b:\n",
    "                        found = True\n",
    "                        predecesor[i] = s\n",
    "                        #print(s,'es predecedesor de',i)\n",
    "                    elif visited[i] == False:\n",
    "                        queue.append(i)\n",
    "                        visited[i] = True\n",
    "                        predecesor[i] = s\n",
    "                        #print(s,'es predecedesor de',i)\n",
    "                        \n",
    "        if not found:\n",
    "            return []\n",
    "        \n",
    "        sol = [b]\n",
    "        i = b\n",
    "        while (i != a):\n",
    "            sol.append(predecesor[i])\n",
    "            i = predecesor[i] \n",
    "        \n",
    "        return (sol[::-1])\n",
    "    \n",
    "    \n",
    "    # Apartado 6\n",
    "    def similarity(self,concept1,concept2):\n",
    "        lcs_list = self.LCS(concept1,concept2)\n",
    "        max_raiz_to_lcs = []\n",
    "        max_lcs_to_concept1 = []\n",
    "        max_lcs_to_concept2 = []\n",
    "        max_sim=0;\n",
    "        for lcs in lcs_list:\n",
    "            raiz_to_lcs = self.path(Raiz,lcs)\n",
    "            lcs_to_concept1 = self.path(lcs,concept1)\n",
    "            lcs_to_concept2 = self.path(lcs,concept2)\n",
    "            sim = (len(raiz_to_lcs)-1)/((len(raiz_to_lcs)-1)+(len(lcs_to_concept1)-1)+(len(lcs_to_concept2)-1))\n",
    "            if sim > max_sim:\n",
    "                max_sim = sim\n",
    "                max_raiz_to_lcs = raiz_to_lcs\n",
    "                max_lcs_to_concept1 = lcs_to_concept1\n",
    "                max_lcs_to_concept2 = lcs_to_concept2\n",
    "                \n",
    "        print(max_sim)\n",
    "        print(max_raiz_to_lcs)\n",
    "        print(max_lcs_to_concept1)\n",
    "        print(max_lcs_to_concept2)"
   ]
  },
  {
   "cell_type": "code",
   "execution_count": 9,
   "metadata": {},
   "outputs": [],
   "source": [
    "t = taxonomia()"
   ]
  },
  {
   "cell_type": "markdown",
   "metadata": {},
   "source": [
    "### 1) Obtener la taxonomía con la que vamos a trabajar\n",
    "\n",
    "Utiliza el [punto el acceso](https://query.wikidata.org/) SPARQL de Wikidata para ejecutar una consulta que devuelva todos los pares de entidades $(x, y)$ tal que $x$ es subconcepto directo de $y$ y ambos son un tipos de [instrumentos musicales (Q34379)](https://www.wikidata.org/wiki/Q34379). Debes recuperar tantos las URIs de la entidades como sus etiquetas.\n",
    "\n",
    "Escribe en la siguiente celda la consulta que has utilizado comentada adecuadamente."
   ]
  },
  {
   "cell_type": "raw",
   "metadata": {},
   "source": [
    "SELECT DISTINCT ?x ?xLabel ?y ?yLabel # evito repetidos\n",
    "WHERE \n",
    "{\n",
    "  ?y wdt:P279* wd:Q34379. # y es subclase de instrumento musical\n",
    "  ?x wdt:P279* wd:Q34379; # x es subclase de instrumento musical\n",
    "     wdt:P279 ?y. # x es subclase directa de y\n",
    "  SERVICE wikibase:label { bd:serviceParam wikibase:language \"[AUTO_LANGUAGE],en\". }\n",
    "}"
   ]
  },
  {
   "cell_type": "markdown",
   "metadata": {},
   "source": [
    "A continuación descarga todas las respuestas en formato _Archivo JSON_ y guardalo en el mismo directorio de la práctica.\n",
    "\n",
    "_Nota profesor: en el momento de realizar esta práctica obtuve 4727 resultados pero el número puede variar al ser Wikidata una base de conocimiento dinámica._\n",
    "\n",
    "_Nota alumno: en el momento de realizar esta práctica obtuve 4543 resultados._"
   ]
  },
  {
   "cell_type": "markdown",
   "metadata": {},
   "source": [
    "### 2) Cargar la taxonomía en memoria\n",
    "\n",
    "Vamos a cargar la taxonomía de clases en memoria para poder operar con ella. Representaremos la jerarquía de clases mediante las siguientes estructuras:\n",
    "\n",
    "- Un diccionario que asocia a cada identificador su etiqueta (por ejemplo 'Q34379' -> 'musical instrument')\n",
    "- Un diccionario que asocia cada clase con sus subclases directas (por ejemplo 'Q17172850' -> {'Q101436564', 'Q1067089', 'Q186506', 'Q210970', 'Q223166', ...}, )\n",
    "- Un diccionario que asocia cada clase con sus superclases directas (por ejemplo 'Q5994' -> {'Q3152898', 'Q4951628', 'Q52954'})\n",
    "\n",
    "Tienes libertad para elegir cómo quieres representar la taxonomía en Python:\n",
    "\n",
    "- Puedes usar una clase. En ese caso tendrás que ir añadiendo métodos a la clase para completar cada uno de los apartados de la práctica. Escribe el código de la clase en una única celda y utiliza los métodos que necesites en cada uno de los apartados.\n",
    "- Puedes usar 3 variables globales para representar la taxonomía. En ese caso deberás escribir las operaciones como funciones en cada uno de los apartados de la práctica.\n",
    "\n",
    "En cualquier caso recuerda documentar adecuadamente el código y trata de que sea sencillo de entender.\n",
    "\n",
    "Crea una operación _load_ que reciba el nombre del fichero json y cargue el grafo en memoria usando las estructuras anteriores.\n",
    "\n",
    "Recuerda que puedes cargar cualquier estructura en formato json usando el siguiente código:\n",
    "\n",
    "```python\n",
    "import json\n",
    "\n",
    "with open(filename, encoding='utf-8') as f:\n",
    "    data = json.load(f)\n",
    "```"
   ]
  },
  {
   "cell_type": "markdown",
   "metadata": {},
   "source": [
    "**Ejecución del *load***"
   ]
  },
  {
   "cell_type": "code",
   "execution_count": 10,
   "metadata": {},
   "outputs": [],
   "source": [
    "t.load(\"musical_instrument_query.json\")"
   ]
  },
  {
   "cell_type": "markdown",
   "metadata": {},
   "source": [
    "*Ejemplo de comprobación*"
   ]
  },
  {
   "cell_type": "code",
   "execution_count": 11,
   "metadata": {},
   "outputs": [
    {
     "data": {
      "text/plain": [
       "'instrumento musical'"
      ]
     },
     "execution_count": 11,
     "metadata": {},
     "output_type": "execute_result"
    }
   ],
   "source": [
    "t.instrumentsDict['Q34379']"
   ]
  },
  {
   "cell_type": "markdown",
   "metadata": {},
   "source": [
    "*Ejemplo de comprobación*"
   ]
  },
  {
   "cell_type": "code",
   "execution_count": 12,
   "metadata": {},
   "outputs": [
    {
     "data": {
      "text/plain": [
       "['Q890870', 'Q58878971', 'Q17088628', 'Q874501']"
      ]
     },
     "execution_count": 12,
     "metadata": {},
     "output_type": "execute_result"
    }
   ],
   "source": [
    "t.subclassDict['Q207821']"
   ]
  },
  {
   "cell_type": "markdown",
   "metadata": {},
   "source": [
    "*Ejemplo de comprobación*"
   ]
  },
  {
   "cell_type": "code",
   "execution_count": 13,
   "metadata": {},
   "outputs": [
    {
     "data": {
      "text/plain": [
       "['Q3152898', 'Q4951628', 'Q52954']"
      ]
     },
     "execution_count": 13,
     "metadata": {},
     "output_type": "execute_result"
    }
   ],
   "source": [
    "t.superclassDict['Q5994']"
   ]
  },
  {
   "cell_type": "markdown",
   "metadata": {},
   "source": [
    "### 3) Imprimir un subárbol de la taxonomía\n",
    "\n",
    "Crea una operación _print_tree_ que imprimir la jerarquía de clases a partir de un concepto y hasta un nivel de profundidad determinado.\n",
    "\n",
    "Por ejemplo, a continuación podemos ver el principio de la jerarquía de [voces](https://www.wikidata.org/wiki/Q17172850) con 3 niveles de profundidad:\n",
    "\n",
    "```\n",
    "0 voz (Q17172850)\n",
    "  1 operatic vocal (Q101436564)\n",
    "  1 alto (Q6983813)\n",
    "   2 mezzosoprano ligera (Q6012300)\n",
    "   2 boy alto (Q53395277)\n",
    "   2 alto castrato (Q53395016)\n",
    "   2 contralto (Q37137)\n",
    "  1 contralto (Q37137)\n",
    "   2 contralto cómica (Q5785182)\n",
    "   2 lyric contralto (Q54635214)\n",
    "   2 Tenorino (Q6141663)\n",
    "   2 contralto de coloratura (Q54635184)\n",
    "   2 deep contralto (Q54635335)\n",
    "   2 contralto dramática (Q5785183)\n",
    "  1 bajo (Q27911)\n",
    "   2 heavy acting bass (Q54636271)\n",
    "   2 bajo profundo (Q2532487)\n",
    "   2 bajo buffo (Q1002146)\n",
    "   ...\n",
    "```\n",
    "\n",
    "Como ocurre en todas las grandes bases de conocimiento, dentro de Wikidata hay información que no ha sido bien introducida o está mal clasificada. ¿Puedes encontrar algún ejemplo concreto dentro de la jerarquía de instrumentos?"
   ]
  },
  {
   "cell_type": "markdown",
   "metadata": {},
   "source": [
    "Por un lado, hay constantes claros ejemplos donde el nivel de clasificación no es el más adecuado. Véase en la taxonomía de [instrumentos de viento](https://www.wikidata.org/wiki/Q173453)\n",
    "\n",
    "```\n",
    "0 instrumento de viento (Q173453)\n",
    "  1 Ney-anbān (Q3339215)\n",
    "  1 wind instrument with keyboard (Q11712894)\n",
    "   2 órgano (Q281460)\n",
    "   2 armonio (Q12460259)\n",
    "   2 flauta travesera (Q209554)\n",
    "  1 aeolodion (Q22266768)\n",
    "  ...\n",
    "```\n",
    "\n",
    "donde el instrumento [Ney-anbān](https://www.wikidata.org/wiki/Q3339215), una especie de gaita iraní, tendría una clasficiación más adecuada si se encontrara como subclase del concepto [gaita](https://www.wikidata.org/wiki/Q8347). \n",
    "\n",
    "Por otro lado, así como existe una categoría en el nivel 1 llamada *instrumento de viento-metal*, no existe otra análoga llamada *instrumento de viento-madera*. Esto se debe, quizás, a la generación dinámica de las superclases a medida que se añaden conceptos a la base de datos; lo cual, conlleva a una clasficación menos homogénea y más caótica de la taxonomía.\n",
    "\n",
    "También encontramos mismas categorías con diferente identificador\n",
    "\n",
    "```\n",
    "0 instrumento de viento (Q173453)\n",
    "  1 horn instrument (Q1126540)\n",
    "   2 oliphant (Q95976560)\n",
    "   2 Corneta de posta (Q996531)\n",
    "   2 hunting horn (Q1678302)\n",
    "   2 Vienna horn (Q2568945)\n",
    "   2 corno da tirarsi (Q16951760)\n",
    "   2 corneta natural (Q1628293)\n",
    "   2 Carnyx (Q277670)\n",
    "   2 German horn (Q25043174)\n",
    "   2 French horn (Q97477525)\n",
    "   2 olifante (Q1335907)\n",
    "   2 bugle-horn (Q94572957)\n",
    "  1 cuerno (Q2665724)\n",
    "   2 Berrante (Q58318973)\n",
    "   2 Q3354343 (Q3354343)\n",
    "   2 Shofar (Q48298)\n",
    "  ...\n",
    "```\n",
    "\n",
    "Y, por último, no sería excepcional que encontrásemos algún error de clasificación. Aunque no parece ser de los más común, ya que como hemos dicho, al instrumento se le asigna una superclase y, si no existiese una lo más acorde posible, simplemente pasaría a estar al mismo nivel que otros conceptos mucho más generales."
   ]
  },
  {
   "cell_type": "markdown",
   "metadata": {},
   "source": [
    "*Ejemplo de comprobación*"
   ]
  },
  {
   "cell_type": "code",
   "execution_count": 14,
   "metadata": {},
   "outputs": [
    {
     "name": "stdout",
     "output_type": "stream",
     "text": [
      "0 instrumento de viento (Q173453)\n"
     ]
    },
    {
     "ename": "KeyError",
     "evalue": "'Q3339215'",
     "output_type": "error",
     "traceback": [
      "\u001b[0;31m---------------------------------------------------------------------------\u001b[0m",
      "\u001b[0;31mKeyError\u001b[0m                                  Traceback (most recent call last)",
      "\u001b[0;32m<ipython-input-14-578aad169ef6>\u001b[0m in \u001b[0;36m<module>\u001b[0;34m\u001b[0m\n\u001b[0;32m----> 1\u001b[0;31m \u001b[0mt\u001b[0m\u001b[0;34m.\u001b[0m\u001b[0mprint_tree\u001b[0m\u001b[0;34m(\u001b[0m\u001b[0;34m'Q173453'\u001b[0m\u001b[0;34m,\u001b[0m\u001b[0;36m2\u001b[0m\u001b[0;34m)\u001b[0m\u001b[0;34m\u001b[0m\u001b[0;34m\u001b[0m\u001b[0m\n\u001b[0m",
      "\u001b[0;32m<ipython-input-8-0136e7de8dea>\u001b[0m in \u001b[0;36mprint_tree\u001b[0;34m(self, concept, level)\u001b[0m\n\u001b[1;32m     49\u001b[0m     \u001b[0;32mdef\u001b[0m \u001b[0mprint_tree\u001b[0m\u001b[0;34m(\u001b[0m\u001b[0mself\u001b[0m\u001b[0;34m,\u001b[0m\u001b[0mconcept\u001b[0m\u001b[0;34m,\u001b[0m\u001b[0mlevel\u001b[0m\u001b[0;34m)\u001b[0m\u001b[0;34m:\u001b[0m\u001b[0;34m\u001b[0m\u001b[0;34m\u001b[0m\u001b[0m\n\u001b[1;32m     50\u001b[0m         \u001b[0mprint\u001b[0m\u001b[0;34m(\u001b[0m\u001b[0;34m'0'\u001b[0m\u001b[0;34m,\u001b[0m\u001b[0mself\u001b[0m\u001b[0;34m.\u001b[0m\u001b[0minstrumentsDict\u001b[0m\u001b[0;34m[\u001b[0m\u001b[0mconcept\u001b[0m\u001b[0;34m]\u001b[0m\u001b[0;34m,\u001b[0m\u001b[0;34m'('\u001b[0m\u001b[0;34m+\u001b[0m\u001b[0mconcept\u001b[0m\u001b[0;34m+\u001b[0m\u001b[0;34m')'\u001b[0m\u001b[0;34m)\u001b[0m\u001b[0;34m\u001b[0m\u001b[0;34m\u001b[0m\u001b[0m\n\u001b[0;32m---> 51\u001b[0;31m         \u001b[0mself\u001b[0m\u001b[0;34m.\u001b[0m\u001b[0mprint_level\u001b[0m\u001b[0;34m(\u001b[0m\u001b[0mconcept\u001b[0m\u001b[0;34m,\u001b[0m\u001b[0;36m1\u001b[0m\u001b[0;34m,\u001b[0m\u001b[0mlevel\u001b[0m\u001b[0;34m)\u001b[0m\u001b[0;34m\u001b[0m\u001b[0;34m\u001b[0m\u001b[0m\n\u001b[0m\u001b[1;32m     52\u001b[0m \u001b[0;34m\u001b[0m\u001b[0m\n\u001b[1;32m     53\u001b[0m     \u001b[0;31m# imprime cada hijo de la varibale concept y, si level lo pide,\u001b[0m\u001b[0;34m\u001b[0m\u001b[0;34m\u001b[0m\u001b[0;34m\u001b[0m\u001b[0m\n",
      "\u001b[0;32m<ipython-input-8-0136e7de8dea>\u001b[0m in \u001b[0;36mprint_level\u001b[0;34m(self, concept, this_level, end_level)\u001b[0m\n\u001b[1;32m     55\u001b[0m     \u001b[0;32mdef\u001b[0m \u001b[0mprint_level\u001b[0m\u001b[0;34m(\u001b[0m\u001b[0mself\u001b[0m\u001b[0;34m,\u001b[0m\u001b[0mconcept\u001b[0m\u001b[0;34m,\u001b[0m\u001b[0mthis_level\u001b[0m\u001b[0;34m,\u001b[0m\u001b[0mend_level\u001b[0m\u001b[0;34m)\u001b[0m\u001b[0;34m:\u001b[0m\u001b[0;34m\u001b[0m\u001b[0;34m\u001b[0m\u001b[0m\n\u001b[1;32m     56\u001b[0m         \u001b[0;32mfor\u001b[0m \u001b[0mchild\u001b[0m \u001b[0;32min\u001b[0m \u001b[0mself\u001b[0m\u001b[0;34m.\u001b[0m\u001b[0msubclassDict\u001b[0m\u001b[0;34m[\u001b[0m\u001b[0mconcept\u001b[0m\u001b[0;34m]\u001b[0m\u001b[0;34m:\u001b[0m\u001b[0;34m\u001b[0m\u001b[0;34m\u001b[0m\u001b[0m\n\u001b[0;32m---> 57\u001b[0;31m             \u001b[0mprint\u001b[0m\u001b[0;34m(\u001b[0m\u001b[0;34m' '\u001b[0m\u001b[0;34m*\u001b[0m\u001b[0mthis_level\u001b[0m\u001b[0;34m,\u001b[0m\u001b[0mthis_level\u001b[0m\u001b[0;34m,\u001b[0m\u001b[0mself\u001b[0m\u001b[0;34m.\u001b[0m\u001b[0minstrumentsDict\u001b[0m\u001b[0;34m[\u001b[0m\u001b[0mchild\u001b[0m\u001b[0;34m]\u001b[0m\u001b[0;34m,\u001b[0m\u001b[0;34m'('\u001b[0m\u001b[0;34m+\u001b[0m\u001b[0mchild\u001b[0m\u001b[0;34m+\u001b[0m\u001b[0;34m')'\u001b[0m\u001b[0;34m)\u001b[0m\u001b[0;34m\u001b[0m\u001b[0;34m\u001b[0m\u001b[0m\n\u001b[0m\u001b[1;32m     58\u001b[0m             \u001b[0;32mif\u001b[0m \u001b[0mthis_level\u001b[0m \u001b[0;34m<\u001b[0m \u001b[0mend_level\u001b[0m \u001b[0;32mand\u001b[0m \u001b[0mchild\u001b[0m \u001b[0;32min\u001b[0m \u001b[0mself\u001b[0m\u001b[0;34m.\u001b[0m\u001b[0msubclassDict\u001b[0m\u001b[0;34m:\u001b[0m\u001b[0;34m\u001b[0m\u001b[0;34m\u001b[0m\u001b[0m\n\u001b[1;32m     59\u001b[0m                 \u001b[0mself\u001b[0m\u001b[0;34m.\u001b[0m\u001b[0mprint_level\u001b[0m\u001b[0;34m(\u001b[0m\u001b[0mchild\u001b[0m\u001b[0;34m,\u001b[0m\u001b[0mthis_level\u001b[0m\u001b[0;34m+\u001b[0m\u001b[0;36m1\u001b[0m\u001b[0;34m,\u001b[0m\u001b[0mend_level\u001b[0m\u001b[0;34m)\u001b[0m\u001b[0;34m\u001b[0m\u001b[0;34m\u001b[0m\u001b[0m\n",
      "\u001b[0;31mKeyError\u001b[0m: 'Q3339215'"
     ]
    }
   ],
   "source": [
    "t.print_tree('Q173453',2)"
   ]
  },
  {
   "cell_type": "markdown",
   "metadata": {},
   "source": [
    "### 4) Obtener los LCS\n",
    "\n",
    "Crea una operación _lcs_ que devuelva todos los LCS de dos conceptos determinados. Recuerda que un concepto C es LCS(A, B) si es más general que ambos y no se puede especializar más sin dejar de serlo.\n",
    "\n",
    "Para implementarlo seguramente te resulte útil tener otro método que devuelva todos los conceptos más generales que uno dado. _Pista: es fácil de implementar usando operaciones entre conjuntos_. \n",
    "\n",
    "Ejemplos:\n",
    "\n",
    "```\n",
    "mezzosoprano dramática (Q6012297), mezzosoprano ligera (Q54634726), mezzosoprano (Q186506)\n",
    "LCS('Q6012297', 'Q54634726') = {'Q186506'}\n",
    "\n",
    "grave (Q5885030), mezzosoprano ligera (Q6012300), voz (Q17172850)\n",
    "LCS('Q5885030', 'Q6012300') = {'Q17172850'}\n",
    "\n",
    "tenor (Q27914)\n",
    "LCS('Q27914', 'Q27914') = {'Q27914'}\n",
    "\n",
    "viola eléctrica (Q15336282), bajo eléctrico (Q64166304), instrumento de cuerda (Q1798603), electrófono (Q105738), necked box lutes (Q55724840)\n",
    "LCS('Q15336282', 'Q64166304') = {'Q55724840', 'Q105738', 'Q1798603}\n",
    "```"
   ]
  },
  {
   "cell_type": "markdown",
   "metadata": {},
   "source": [
    "*Ejemplo de comprobación*"
   ]
  },
  {
   "cell_type": "code",
   "execution_count": 153,
   "metadata": {},
   "outputs": [
    {
     "name": "stdout",
     "output_type": "stream",
     "text": [
      "{'Q186506'}\n"
     ]
    }
   ],
   "source": [
    "t.LCS('Q6012297','Q54634726')"
   ]
  },
  {
   "cell_type": "markdown",
   "metadata": {},
   "source": [
    "*Ejemplo de comprobación*"
   ]
  },
  {
   "cell_type": "code",
   "execution_count": 154,
   "metadata": {},
   "outputs": [
    {
     "name": "stdout",
     "output_type": "stream",
     "text": [
      "{'Q105738', 'Q1798603', 'Q55724840'}\n"
     ]
    }
   ],
   "source": [
    "t.LCS('Q15336282','Q64166304')"
   ]
  },
  {
   "cell_type": "markdown",
   "metadata": {},
   "source": [
    "### 5) Obtener caminos mínimos\n",
    "\n",
    "Crea una operación _path_ que calcule el camino mínimo entre dos conceptos A y B siendo A más o igual de general que B. Como la taxonomía no tiene ciclos puedes implementarlo como una búsqueda en profunidad. Ten en cuenta que los caminos sólo pueden contener conceptos más específicos o iguales a A y más generales o iguales a B.\n",
    "\n",
    "Ejemplos:\n",
    "\n",
    "```\n",
    "path('Q186506', 'Q54634726') = [mezzosoprano (Q186506), mezzosoprano ligera (Q54634726)]\n",
    "\n",
    "path('Q17172850', 'Q6012300') = [voz (Q17172850), alto (Q6983813), mezzosoprano ligera (Q6012300)]\n",
    "\n",
    "path('Q27914', 'Q27914') = [tenor (Q27914)]\n",
    "\n",
    "path('Q34379', 'Q105738') = [instrumento musical (Q34379), cordófono (Q1051772), composite chordophones (Q19588495), lutes (Q1808578), handle lutes (Q30038759), necked lutes (Q55724833), necked box lutes (Q55724840)]\n",
    " ```"
   ]
  },
  {
   "cell_type": "code",
   "execution_count": null,
   "metadata": {},
   "outputs": [],
   "source": []
  },
  {
   "cell_type": "markdown",
   "metadata": {},
   "source": [
    "### 6) Calcular la similitud\n",
    "\n",
    "Implementa una operación _similarity_ que calcule la similtud entre dos conceptos. Debe devolver tanto el valor númerico de similitud como los caminos desde la raiz al LCS y desde el LCS a cada uno de los dos conceptos.\n",
    "\n",
    "Ten en cuenta que debes usar un LCS que maximice el valor de similitud. Si la información de Wikidata no ha cambiado, los valores de similitud deberían coincidir con los que aparecen en los ejemplos pero los caminos no tienen por qué. Y recuerda que no es lo mismo el números de aristas de un camino que el número de nodos del camino.\n",
    "\n",
    "Ejemplos:\n",
    "\n",
    "```\n",
    "similarity('Q6012297', 'Q54634726')\n",
    "0.5\n",
    "[instrumento musical (Q34379), voz (Q17172850), mezzosoprano (Q186506)]\n",
    "[mezzosoprano (Q186506), mezzosoprano dramática (Q6012297)]\n",
    "[mezzosoprano (Q186506), mezzosoprano ligera (Q54634726)]\n",
    "\n",
    "similarity('Q186506', 'Q54634726')\n",
    "0.6666666666666666\n",
    "[instrumento musical (Q34379), voz (Q17172850), mezzosoprano (Q186506)]\n",
    "[mezzosoprano (Q186506)]\n",
    "[mezzosoprano (Q186506), mezzosoprano ligera (Q54634726)]\n",
    "\n",
    "similarity('Q27914', 'Q27914')\n",
    "1.0\n",
    "[instrumento musical (Q34379), voz (Q17172850), high voice (Q98116969), tenor (Q27914)]\n",
    "[tenor (Q27914)]\n",
    "[tenor (Q27914)]\n",
    "\n",
    "similarity('Q76239', 'Q78987')\n",
    "0.42857142857142855\n",
    "[instrumento musical (Q34379), cordófono (Q1051772), instrumento de cuerda (Q1798603), instrumento de cuerda pulsada (Q230262)]\n",
    "[instrumento de cuerda pulsada (Q230262), cítara (Q76239)]\n",
    "[instrumento de cuerda pulsada (Q230262), plucked necked box lutes (Q57306162), guitarra (Q6607), guitarra eléctrica (Q78987)]\n",
    "```"
   ]
  },
  {
   "cell_type": "code",
   "execution_count": null,
   "metadata": {},
   "outputs": [],
   "source": []
  },
  {
   "cell_type": "markdown",
   "metadata": {},
   "source": [
    "### 7) Análisis de las similitudes\n",
    "\n",
    "Calcula la similitud 2 a 2 de los siguientes instrumentos y explica razonadamente si los valores obtenidos tienen sentido de acuerdo a tu intuición sobre si se parecen o no.\n",
    "\n",
    "```\n",
    "piano (Q5994), guitarra (Q6607), guitarra eléctrica (Q78987), flauta (Q11405), trompeta (Q8338)\n",
    "```"
   ]
  },
  {
   "cell_type": "code",
   "execution_count": 159,
   "metadata": {},
   "outputs": [
    {
     "ename": "NameError",
     "evalue": "name 'similarity' is not defined",
     "output_type": "error",
     "traceback": [
      "\u001b[0;31m---------------------------------------------------------------------------\u001b[0m",
      "\u001b[0;31mNameError\u001b[0m                                 Traceback (most recent call last)",
      "\u001b[0;32m<ipython-input-159-4a71e99cd1c4>\u001b[0m in \u001b[0;36m<module>\u001b[0;34m\u001b[0m\n\u001b[0;32m----> 1\u001b[0;31m \u001b[0msimilarity\u001b[0m\u001b[0;34m(\u001b[0m\u001b[0;34m'Q5994'\u001b[0m\u001b[0;34m,\u001b[0m \u001b[0;34m'Q6607'\u001b[0m\u001b[0;34m)\u001b[0m\u001b[0;34m\u001b[0m\u001b[0;34m\u001b[0m\u001b[0m\n\u001b[0m",
      "\u001b[0;31mNameError\u001b[0m: name 'similarity' is not defined"
     ]
    }
   ],
   "source": [
    "similarity('Q5994', 'Q6607')"
   ]
  },
  {
   "cell_type": "code",
   "execution_count": null,
   "metadata": {},
   "outputs": [],
   "source": []
  }
 ],
 "metadata": {
  "kernelspec": {
   "display_name": "Python 3",
   "language": "python",
   "name": "python3"
  },
  "language_info": {
   "codemirror_mode": {
    "name": "ipython",
    "version": 3
   },
   "file_extension": ".py",
   "mimetype": "text/x-python",
   "name": "python",
   "nbconvert_exporter": "python",
   "pygments_lexer": "ipython3",
   "version": "3.8.3"
  }
 },
 "nbformat": 4,
 "nbformat_minor": 4
}
