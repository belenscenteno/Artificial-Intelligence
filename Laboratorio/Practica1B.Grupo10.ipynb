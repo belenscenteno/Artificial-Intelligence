{
 "cells": [
  {
   "cell_type": "markdown",
   "metadata": {},
   "source": [
    "##### Grupo 10: Belén Sánchez Centeno y Martín Fernández de Diego"
   ]
  },
  {
   "cell_type": "code",
   "execution_count": 1,
   "metadata": {},
   "outputs": [
    {
     "name": "stdout",
     "output_type": "stream",
     "text": [
      "/Users/martin/Documents/Cursos/2020-2021/IA/Laboratorio/Python/aima-python\n"
     ]
    }
   ],
   "source": [
    "cd ../aima-python"
   ]
  },
  {
   "cell_type": "code",
   "execution_count": 2,
   "metadata": {},
   "outputs": [],
   "source": [
    "import search\n",
    "from search import Problem\n",
    "from search import breadth_first_tree_search, breadth_first_graph_search, depth_first_tree_search, depth_first_graph_search, astar_search"
   ]
  },
  {
   "cell_type": "markdown",
   "metadata": {},
   "source": [
    "# Problema 1.\n",
    "Un grupo de 5 personas quiere cruzar un viejo y estrecho puente. Es una noche cerrada y se necesita llevar una linterna para cruzar. El grupo solo dispone de una linterna, a la que le quedan 5 minutos de batería.\n",
    "1. Cada persona tarda en cruzar 10, 30, 60, 80 y 120 segundos, respectivamente.\n",
    "2. El puente solo resiste un máximo de 2 personas cruzando a la vez, y cuando cruzan dos personas juntas, caminan a la velocidad del más lento.\n",
    "3. No se puede lanzar la linterna de un extremo a otro del puente, así que\n",
    "cada vez que crucen dos personas, alguien tiene que volver a cruzar hacia atrás con la linterna a buscar a los compañeros que falten, y así hasta que hayan cruzado todos."
   ]
  },
  {
   "cell_type": "markdown",
   "metadata": {},
   "source": [
    "### Representación del estado\n",
    "Estado: (Posición de cada persona respecto del puente, (Posición de la linterna respecto del puente, Batería restante))  \n",
    "Orilla inicial := 0  \n",
    "Orilla final := 1"
   ]
  },
  {
   "cell_type": "code",
   "execution_count": 3,
   "metadata": {},
   "outputs": [],
   "source": [
    "# Variables globales\n",
    "battery = 300\n",
    "cost = (10,30,60,80,120)"
   ]
  },
  {
   "cell_type": "code",
   "execution_count": 4,
   "metadata": {},
   "outputs": [],
   "source": [
    "# Creamos la clase\n",
    "class ProblemaLinterna(Problem):\n",
    "    '''Clase problema siguiendo la estructura que AIMA espera que tengan los problemas.'''\n",
    "    def __init__(self, initial = (0,0,0,0,0,(0,battery)), goal = None):\n",
    "        '''Inicializacion de nuestro problema.'''\n",
    "        Problem.__init__(self, initial, goal)\n",
    "\n",
    "    def actions(self, state):\n",
    "        '''Devuelve las acciones validas para un estado.'''\n",
    "        action = list()\n",
    "        for i in range(0,5):\n",
    "            if self._is_valid(state,i):\n",
    "                action.append((\"Cruza 1\",i))\n",
    "        for i in range(0,5):\n",
    "            for j in range(i+1,5):\n",
    "                if self._is_valid(state,i) and self._is_valid(state,j):\n",
    "                    action.append((\"Cruzan 2\",(i,j)))\n",
    "        return action\n",
    "\n",
    "    def result(self, state, action):\n",
    "        '''Devuelve el estado resultante de aplicar una accion a un estado.'''\n",
    "        people = list(state[0:5])\n",
    "        lantern = list(state[5])\n",
    "        lantern[0] = 1 - state[5][0] # Movemos linterna\n",
    "        if action[0] == \"Cruza 1\":\n",
    "            people[action[1]] = 1 - state[action[1]] # Movemos persona\n",
    "            lantern[1] = state[5][1] - cost[action[1]] # Actualizamos la batería\n",
    "        else:\n",
    "            people[action[1][0]] = 1 - state[action[1][0]] # Movemos persona1\n",
    "            people[action[1][1]] = 1 - state[action[1][1]] # Movemos persona2\n",
    "            lantern[1] = state[5][1] - max(cost[action[1][0]],cost[action[1][0]]) # Actualizamos la batería\n",
    "        people.append(tuple(lantern))\n",
    "        return tuple(people)\n",
    "    \n",
    "    def goal_test(self, state):\n",
    "        '''Determina si el estado ha alcanzado el estado objetivo.'''\n",
    "        person = True\n",
    "        for i in range(0,5):\n",
    "            person = person and state[i] == 1\n",
    "        return person and state[5][0] == 1 # and estado[5][1] >= 0\n",
    "    \n",
    "    def path_cost(self, c, state1, action, state2):\n",
    "        '''Devuelve el coste de la solución tras aplicar la acción.'''\n",
    "        return c + self._costs(action)\n",
    "        # La redefinición de la función path_cost refina la solución final\n",
    "        \n",
    "    def _is_valid(self, state, i):\n",
    "        '''Determina si un estado es valido.'''\n",
    "        return state[5][0] == state[i] and state[5][1] - cost[i] >= 0 \n",
    "    \n",
    "    def _costs(self, action):\n",
    "        '''Devuelve el coste de aplicar accion a estado.'''\n",
    "        if action[0] == \"Cruza 1\":\n",
    "            return cost[action[1]]\n",
    "        else:\n",
    "            return max(cost[action[1][0]],cost[action[1][1]])"
   ]
  },
  {
   "cell_type": "code",
   "execution_count": 5,
   "metadata": {},
   "outputs": [],
   "source": [
    "def HeuristicaLinterna(node):\n",
    "    '''Calcula el coste restante en el nodo si fuera de día.'''\n",
    "    # Eliminamos la restricción de la linterna\n",
    "    state = node.state\n",
    "    total = 0;\n",
    "    # Aseguramos que las personas con mayor coste vayan juntas\n",
    "    i = 4;\n",
    "    while i >= 0:\n",
    "        if state[i] == 0:\n",
    "            total += cost[i]\n",
    "            # Buscamos la siguiente persona con mayor coste\n",
    "            while i > 0:\n",
    "                i -= 1\n",
    "                if state[i] == 0:\n",
    "                    break\n",
    "        i -= 1\n",
    "    return total"
   ]
  },
  {
   "cell_type": "markdown",
   "metadata": {},
   "source": [
    "### Resultados previos"
   ]
  },
  {
   "cell_type": "code",
   "execution_count": 6,
   "metadata": {},
   "outputs": [],
   "source": [
    "pLinterna = ProblemaLinterna()"
   ]
  },
  {
   "cell_type": "code",
   "execution_count": 7,
   "metadata": {},
   "outputs": [
    {
     "data": {
      "text/plain": [
       "(0, 0, 0, 0, 0, (0, 300))"
      ]
     },
     "execution_count": 7,
     "metadata": {},
     "output_type": "execute_result"
    }
   ],
   "source": [
    "pLinterna.initial"
   ]
  },
  {
   "cell_type": "code",
   "execution_count": 8,
   "metadata": {},
   "outputs": [
    {
     "data": {
      "text/plain": [
       "[('Cruza 1', 0),\n",
       " ('Cruza 1', 1),\n",
       " ('Cruza 1', 2),\n",
       " ('Cruza 1', 3),\n",
       " ('Cruza 1', 4),\n",
       " ('Cruzan 2', (0, 1)),\n",
       " ('Cruzan 2', (0, 2)),\n",
       " ('Cruzan 2', (0, 3)),\n",
       " ('Cruzan 2', (0, 4)),\n",
       " ('Cruzan 2', (1, 2)),\n",
       " ('Cruzan 2', (1, 3)),\n",
       " ('Cruzan 2', (1, 4)),\n",
       " ('Cruzan 2', (2, 3)),\n",
       " ('Cruzan 2', (2, 4)),\n",
       " ('Cruzan 2', (3, 4))]"
      ]
     },
     "execution_count": 8,
     "metadata": {},
     "output_type": "execute_result"
    }
   ],
   "source": [
    "pLinterna.actions(pLinterna.initial)"
   ]
  },
  {
   "cell_type": "code",
   "execution_count": 9,
   "metadata": {},
   "outputs": [
    {
     "data": {
      "text/plain": [
       "(1, 0, 0, 0, 0, (1, 290))"
      ]
     },
     "execution_count": 9,
     "metadata": {},
     "output_type": "execute_result"
    }
   ],
   "source": [
    "pLinterna.result(pLinterna.initial,(\"Cruza 1\",0))"
   ]
  },
  {
   "cell_type": "code",
   "execution_count": 10,
   "metadata": {},
   "outputs": [
    {
     "data": {
      "text/plain": [
       "False"
      ]
     },
     "execution_count": 10,
     "metadata": {},
     "output_type": "execute_result"
    }
   ],
   "source": [
    "pLinterna.goal_test(pLinterna.initial)"
   ]
  },
  {
   "cell_type": "markdown",
   "metadata": {},
   "source": [
    "### Búsquedas de solución"
   ]
  },
  {
   "cell_type": "code",
   "execution_count": 11,
   "metadata": {},
   "outputs": [
    {
     "data": {
      "text/plain": [
       "[('Cruzan 2', (0, 1)),\n",
       " ('Cruza 1', 0),\n",
       " ('Cruzan 2', (0, 2)),\n",
       " ('Cruza 1', 0),\n",
       " ('Cruzan 2', (0, 3)),\n",
       " ('Cruza 1', 0),\n",
       " ('Cruzan 2', (0, 4))]"
      ]
     },
     "execution_count": 11,
     "metadata": {},
     "output_type": "execute_result"
    }
   ],
   "source": [
    "breadth_first_graph_search(pLinterna).solution()"
   ]
  },
  {
   "cell_type": "code",
   "execution_count": 12,
   "metadata": {},
   "outputs": [
    {
     "data": {
      "text/plain": [
       "[<Node (0, 0, 0, 0, 0, (0, 300))>,\n",
       " <Node (1, 1, 0, 0, 0, (1, 290))>,\n",
       " <Node (0, 1, 0, 0, 0, (0, 280))>,\n",
       " <Node (1, 1, 1, 0, 0, (1, 270))>,\n",
       " <Node (0, 1, 1, 0, 0, (0, 260))>,\n",
       " <Node (1, 1, 1, 1, 0, (1, 250))>,\n",
       " <Node (0, 1, 1, 1, 0, (0, 240))>,\n",
       " <Node (1, 1, 1, 1, 1, (1, 230))>]"
      ]
     },
     "execution_count": 12,
     "metadata": {},
     "output_type": "execute_result"
    }
   ],
   "source": [
    "breadth_first_graph_search(pLinterna).path()"
   ]
  },
  {
   "cell_type": "code",
   "execution_count": 13,
   "metadata": {},
   "outputs": [
    {
     "name": "stdout",
     "output_type": "stream",
     "text": [
      "142 ms ± 6.58 ms per loop (mean ± std. dev. of 7 runs, 10 loops each)\n"
     ]
    }
   ],
   "source": [
    "%%timeit\n",
    "breadth_first_graph_search(pLinterna).solution()"
   ]
  },
  {
   "cell_type": "code",
   "execution_count": 14,
   "metadata": {},
   "outputs": [
    {
     "data": {
      "text/plain": [
       "[('Cruzan 2', (3, 4)),\n",
       " ('Cruzan 2', (3, 4)),\n",
       " ('Cruzan 2', (1, 4)),\n",
       " ('Cruza 1', 1),\n",
       " ('Cruzan 2', (0, 3)),\n",
       " ('Cruza 1', 0),\n",
       " ('Cruzan 2', (0, 2)),\n",
       " ('Cruza 1', 0),\n",
       " ('Cruzan 2', (0, 1))]"
      ]
     },
     "execution_count": 14,
     "metadata": {},
     "output_type": "execute_result"
    }
   ],
   "source": [
    "depth_first_graph_search(pLinterna).solution()"
   ]
  },
  {
   "cell_type": "code",
   "execution_count": 15,
   "metadata": {},
   "outputs": [
    {
     "data": {
      "text/plain": [
       "[<Node (0, 0, 0, 0, 0, (0, 300))>,\n",
       " <Node (0, 0, 0, 1, 1, (1, 220))>,\n",
       " <Node (0, 0, 0, 0, 0, (0, 140))>,\n",
       " <Node (0, 1, 0, 0, 1, (1, 110))>,\n",
       " <Node (0, 0, 0, 0, 1, (0, 80))>,\n",
       " <Node (1, 0, 0, 1, 1, (1, 70))>,\n",
       " <Node (0, 0, 0, 1, 1, (0, 60))>,\n",
       " <Node (1, 0, 1, 1, 1, (1, 50))>,\n",
       " <Node (0, 0, 1, 1, 1, (0, 40))>,\n",
       " <Node (1, 1, 1, 1, 1, (1, 30))>]"
      ]
     },
     "execution_count": 15,
     "metadata": {},
     "output_type": "execute_result"
    }
   ],
   "source": [
    "depth_first_graph_search(pLinterna).path()"
   ]
  },
  {
   "cell_type": "code",
   "execution_count": 16,
   "metadata": {},
   "outputs": [
    {
     "name": "stdout",
     "output_type": "stream",
     "text": [
      "753 µs ± 41.5 µs per loop (mean ± std. dev. of 7 runs, 1000 loops each)\n"
     ]
    }
   ],
   "source": [
    "%%timeit\n",
    "depth_first_graph_search(pLinterna).solution()"
   ]
  },
  {
   "cell_type": "code",
   "execution_count": 17,
   "metadata": {},
   "outputs": [
    {
     "data": {
      "text/plain": [
       "[('Cruzan 2', (0, 2)),\n",
       " ('Cruza 1', 0),\n",
       " ('Cruzan 2', (0, 1)),\n",
       " ('Cruza 1', 0),\n",
       " ('Cruzan 2', (3, 4)),\n",
       " ('Cruza 1', 1),\n",
       " ('Cruzan 2', (0, 1))]"
      ]
     },
     "execution_count": 17,
     "metadata": {},
     "output_type": "execute_result"
    }
   ],
   "source": [
    "astar_search(pLinterna,HeuristicaLinterna).solution()"
   ]
  },
  {
   "cell_type": "code",
   "execution_count": 18,
   "metadata": {},
   "outputs": [
    {
     "data": {
      "text/plain": [
       "[<Node (0, 0, 0, 0, 0, (0, 300))>,\n",
       " <Node (1, 0, 1, 0, 0, (1, 290))>,\n",
       " <Node (0, 0, 1, 0, 0, (0, 280))>,\n",
       " <Node (1, 1, 1, 0, 0, (1, 270))>,\n",
       " <Node (0, 1, 1, 0, 0, (0, 260))>,\n",
       " <Node (0, 1, 1, 1, 1, (1, 180))>,\n",
       " <Node (0, 0, 1, 1, 1, (0, 150))>,\n",
       " <Node (1, 1, 1, 1, 1, (1, 140))>]"
      ]
     },
     "execution_count": 18,
     "metadata": {},
     "output_type": "execute_result"
    }
   ],
   "source": [
    "astar_search(pLinterna,HeuristicaLinterna).path()"
   ]
  },
  {
   "cell_type": "code",
   "execution_count": 19,
   "metadata": {},
   "outputs": [
    {
     "name": "stdout",
     "output_type": "stream",
     "text": [
      "115 ms ± 5.5 ms per loop (mean ± std. dev. of 7 runs, 10 loops each)\n"
     ]
    }
   ],
   "source": [
    "%%timeit\n",
    "astar_search(pLinterna,HeuristicaLinterna).solution()"
   ]
  },
  {
   "cell_type": "markdown",
   "metadata": {},
   "source": [
    "### Conclusiones\n",
    "Vistos los resultados previos,  \n",
    "En cuanto a **mejores soluciones**, podemos concluir que las arrojan el algoritmo *breadth_first_graph_search* y *astar_search* porque ambas consiguen llegar al estado objetivo en 7 acciones. Hay que resaltar que *breadth_first_graph_search* es aún mejor porque alcanza la solución del problema con 230 segundos de batería restante en la linterna mientras que *astar_search* alcanza la solución con 140 segundos.  \n",
    "En cuanto a **mejores tiempos**, podemos concluir que los arroja el algoritmo *depth_first_graph_search*. En cambio, su solución no es muy buena.  \n",
    "\n",
    "Por tanto, si queremos una solución con un buen rendimiento, podríamos tomar la dada por *astar_search* ya que tarda un poco menos que *breadth_first_graph_search*. Sin embargo, esta última, consigue una solución mucho mejor con un tiempo no muy alejado del de *astar_search*.  \n",
    "\n",
    "Bastaría mejorar ligeramente la heurística *HeuristicaLinterna* para mejorar el rendimiento de la solución mediante el algoritmo *astar_search*."
   ]
  },
  {
   "cell_type": "markdown",
   "metadata": {},
   "source": [
    "# Problema 4.\n",
    "Grados de separación entre actores. Este problema es de naturaleza algo diferente ya que tendréis que trabajar con un grafo de datos sobre actores y películas. Según la teoría de los grados de separación de Kevin Bacon cualquier persona de la industria del cine de Hollywood puede conectarse con Kevin Bacon en un máximo de 6 pasos donde cada paso es una película en la que han participado dos personas. En este problema os pedimos encontrar el camino más corto entre dos actores dados, a través de la secuencia de películas que los conectan. Por ejemplo, el camino más corto entre Jennifer Lawrence y Tom Hanks tiene longitud 2: Jennifer Lawrence se conecta con Kevin Bacon por la película “X-Men: First Class,” y Kevin Bacon con Tom Hanks por “Apollo 13.”  \n",
    "\n",
    "Podemos definir este problema como un problema de búsqueda en el que los estados son las personas y las acciones son las películas que nos llevan de un actor al siguiente. El estado inicial y final son las personas que queremos conectar. Resuelve el problema indicando qué algoritmo es el más adecuado.  \n",
    "\n",
    "Se os proporciona la base de datos en formato csv con actores que participan en películas de dos tamaños (pequeño y grande en dos directorios) y el código Python para cargar los datos a través de estructuras diccionario. Se puede consultar una persona por su nombre (y obtener su id) y las películas en las que ha participado. La función load_data carga los archivos csv en los diccionarios.  \n",
    "\n",
    "En el fichero de personas (people.csv) cada persona tiene un id único, un nombre y su año de nacimiento (102,\"Kevin Bacon\",1958). Y en el archivo de películas (movies.csv) cada película tiene también un id único, su título y el año (109830,\"Forrest Gump\",1994). En el tercer archivo (stars.csv) se establece la relación entre las personas y las películas. La persona con id 102 participó en la película con id 104257.  \n",
    "\n",
    "En primer lugar, debes descargar y entender el contenido de los archivos y estructuras de datos y el código que os damos ya hecho para leer los datos, obtener el id dado el nombre y obtener las conexiones de una persona dada. Dado el id de una persona, la función neighbors_for_person devuelve el conjunto de pares (movie_id, person_id) con todas las personas que participaron con esa persona en la película con movie_id. Si hay un camino entre pi y po, el camino entre ellas puede ser devuelto como una lista de pares de enteros (movie_id, person_id). Por ejemplo, si el camino más corto es: [(1,2), (3,4)], significa que pi participó en la película 1 con la persona 2, la persona 2 participó en la película 3 con la persona 4. Y como termina el camino, 4 es po."
   ]
  },
  {
   "cell_type": "markdown",
   "metadata": {},
   "source": [
    "#### Ejemplo de salida:\n",
    "Loading data...  \n",
    "Name: Emma Watson  \n",
    "Name: Jennifer Lawrence  \n",
    "3 grados de separación  \n",
    "1: Emma Watson y Brendan Gleeson participaron en Harry Potter and the Order of the Phoenix  \n",
    "2: Brendan Gleeson y Michael Fassbender participaron en Trespass Against Us  \n",
    "3: Michael Fassbender y Jennifer Lawrence participaron en X-Men: First Class"
   ]
  },
  {
   "cell_type": "markdown",
   "metadata": {},
   "source": [
    "Si hay varios caminos de la misma longitud se puede devolver cualquiera o puedes proponer algún criterio adicional (por ejemplo, usando el año). Puede ocurrir que no haya camino entre dos actores."
   ]
  },
  {
   "cell_type": "code",
   "execution_count": 20,
   "metadata": {},
   "outputs": [
    {
     "name": "stdout",
     "output_type": "stream",
     "text": [
      "/Users/martin/Documents/Cursos/2020-2021/IA/Laboratorio/Python/P1/grados\n"
     ]
    }
   ],
   "source": [
    "cd ../P1/grados"
   ]
  },
  {
   "cell_type": "code",
   "execution_count": 21,
   "metadata": {},
   "outputs": [],
   "source": [
    "## grados.py\n",
    "import csv\n",
    "import sys\n",
    "\n",
    "# dictionary of people names with ids \n",
    "names = {}\n",
    "# dictionary: name, birth, movies (a set of movie_ids)\n",
    "people = {}\n",
    "# movie_ids to a dictionary of: title, year, stars (a set of person_ids)\n",
    "movies = {}\n",
    "\n",
    "def load_data(directory):\n",
    "    \"\"\"\n",
    "    Load data from CSV files into memory.\n",
    "    \"\"\"\n",
    "    # Loading data from people\n",
    "    with open(f\"{directory}/people.csv\", encoding=\"utf-8\") as f:\n",
    "        reader = csv.DictReader(f)\n",
    "        for row in reader:\n",
    "            people[row[\"id\"]] = {\n",
    "                \"name\": row[\"name\"],\n",
    "                \"birth\": row[\"birth\"],\n",
    "                \"movies\": set()\n",
    "            }\n",
    "            if row[\"name\"].lower() not in names:\n",
    "                names[row[\"name\"].lower()] = {row[\"id\"]}\n",
    "            else:\n",
    "                names[row[\"name\"].lower()].add(row[\"id\"])\n",
    "\n",
    "    # Loading data from movies\n",
    "    with open(f\"{directory}/movies.csv\", encoding=\"utf-8\") as f:\n",
    "        reader = csv.DictReader(f)\n",
    "        for row in reader:\n",
    "            movies[row[\"id\"]] = {\n",
    "                \"title\": row[\"title\"],\n",
    "                \"year\": row[\"year\"],\n",
    "                \"stars\": set()\n",
    "            }\n",
    "\n",
    "    # Loading data from stars\n",
    "    with open(f\"{directory}/stars.csv\", encoding=\"utf-8\") as f:\n",
    "        reader = csv.DictReader(f)\n",
    "        for row in reader:\n",
    "            try:\n",
    "                people[row[\"person_id\"]][\"movies\"].add(row[\"movie_id\"])\n",
    "                movies[row[\"movie_id\"]][\"stars\"].add(row[\"person_id\"])\n",
    "            except KeyError:\n",
    "                pass\n",
    "\n",
    "\n",
    "def main():\n",
    "    if len(sys.argv) > 2:\n",
    "        sys.exit(\"Para ejecutarlo en línea de comandos: python grados.py [directory]\")\n",
    "    directory = sys.argv[1] if len(sys.argv) == 2 else \"large\"\n",
    "\n",
    "    # Load data from files into memory\n",
    "    print(\"Cargando los datos...\")\n",
    "    load_data(\"large\")\n",
    "\n",
    "    source = person_id_for_name(input(\"Nombre: \"))\n",
    "    if source is None:\n",
    "        sys.exit(\"Esa persona no se encuentra.\")\n",
    "    target = person_id_for_name(input(\"Nombre: \"))\n",
    "    if target is None:\n",
    "        sys.exit(\"Esa persona no se encuentra.\")\n",
    "\n",
    "    print(\"Analizando los datos...\")\n",
    "    path = shortest_path(source, target)\n",
    "\n",
    "    if path is None:\n",
    "        print(\"No están conectados.\")\n",
    "    else:\n",
    "        degrees = len(path)\n",
    "        print(f\"{degrees} grados de separacion.\")\n",
    "        path = [(None, source)] + path\n",
    "        for i in range(degrees):\n",
    "            person1 = people[path[i][1]][\"name\"]\n",
    "            person2 = people[path[i + 1][1]][\"name\"]\n",
    "            movie = movies[path[i + 1][0]][\"title\"]\n",
    "            print(f\"{i + 1}: {person1} y {person2} participaron en {movie}\")\n",
    "\n",
    "\n",
    "def shortest_path(source, target):\n",
    "    \"\"\"\n",
    "    Devuelve la lista de pares (movie_id, person_id) que conectan source y target o None si no hay conexion.\n",
    "    \"\"\"\n",
    "    if (source == target):\n",
    "        return list()\n",
    "    \n",
    "    # Utilizamos BFS para hallar el camino más corto\n",
    "    marked = list()\n",
    "    queue = list()\n",
    "    edgeTo = {}\n",
    "    \n",
    "    marked.append(source)\n",
    "    queue.append(source)\n",
    "    \n",
    "    stop = False\n",
    "    while len(queue) > 0 and not stop:\n",
    "        person1 = queue.pop(0) # Desapilamos el primer elemento de la cola\n",
    "        for (movie,person2) in neighbors_for_person(person1):\n",
    "            if not person2 in marked:\n",
    "                marked.append(person2)\n",
    "                edgeTo[person2] = (movie,person1)\n",
    "                queue.append(person2) # Apilamos por el final de la cola\n",
    "                if person2 == target:\n",
    "                    stop = True\n",
    "                    break\n",
    "    \n",
    "    # Reconstruimos el camino\n",
    "    if target in marked:\n",
    "        path = list()\n",
    "        person = target\n",
    "        while person != source:\n",
    "            (movie,personAux) = edgeTo[person]\n",
    "            path.append((movie,person))\n",
    "            person = personAux\n",
    "        path.reverse()\n",
    "        return path\n",
    "    else:\n",
    "        return None\n",
    "\n",
    "    \n",
    "def person_id_for_name(name):\n",
    "    \"\"\"\n",
    "    Returns the IMDB id for a person's name, resolving ambiguities as needed.\n",
    "    \"\"\"\n",
    "    person_ids = list(names.get(name.lower(), set()))\n",
    "    if len(person_ids) == 0:\n",
    "        return None\n",
    "    elif len(person_ids) > 1:\n",
    "        print(f\"Which '{name}'?\")\n",
    "        for person_id in person_ids:\n",
    "            person = people[person_id]\n",
    "            name = person[\"name\"]\n",
    "            birth = person[\"birth\"]\n",
    "            print(f\"ID: {person_id}, Name: {name}, Birth: {birth}\")\n",
    "        try:\n",
    "            person_id = input(\"Intended Person ID: \")\n",
    "            if person_id in person_ids:\n",
    "                return person_id\n",
    "        except ValueError:\n",
    "            pass\n",
    "        return None\n",
    "    else:\n",
    "        return person_ids[0]\n",
    "\n",
    "\n",
    "def neighbors_for_person(person_id):\n",
    "    \"\"\"\n",
    "    Returns (movie_id, person_id) pairs for people who starred with a given person.\n",
    "    \"\"\"\n",
    "    movie_ids = people[person_id][\"movies\"]\n",
    "    neighbors = set()\n",
    "    for movie_id in movie_ids:\n",
    "        for person_id in movies[movie_id][\"stars\"]:\n",
    "            neighbors.add((movie_id, person_id))\n",
    "    return neighbors"
   ]
  },
  {
   "cell_type": "code",
   "execution_count": 22,
   "metadata": {},
   "outputs": [],
   "source": [
    "def Kevin_Bacon():\n",
    "    print(\"Cargando los datos...\")\n",
    "    load_data(\"large\")\n",
    "\n",
    "    source = person_id_for_name(input(\"Nombre del actor fuente: \"))\n",
    "    if source is None:\n",
    "        sys.exit(\"Esa persona no se encuentra.\")\n",
    "    target = person_id_for_name(input(\"Nombre del actor objetivo: \"))\n",
    "    if target is None:\n",
    "        sys.exit(\"Esa persona no se encuentra.\")\n",
    "\n",
    "    print(\"Analizando los datos...\")\n",
    "    path = shortest_path(source, target)\n",
    "\n",
    "    if path is None:\n",
    "        print(\"No están conectados.\")\n",
    "    elif len(path) == 0:\n",
    "        print(\"Son el mismo actor.\")\n",
    "    else:\n",
    "        degrees = len(path)\n",
    "        print(f\"{degrees} grados de separacion.\")\n",
    "        path = [(None, source)] + path\n",
    "        for i in range(degrees):\n",
    "            person1 = people[path[i][1]][\"name\"]\n",
    "            person2 = people[path[i + 1][1]][\"name\"]\n",
    "            movie = movies[path[i + 1][0]][\"title\"]\n",
    "            print(f\"{i + 1}: {person1} y {person2} participaron en {movie}\")"
   ]
  },
  {
   "cell_type": "code",
   "execution_count": 23,
   "metadata": {},
   "outputs": [
    {
     "name": "stdout",
     "output_type": "stream",
     "text": [
      "Cargando los datos...\n",
      "Nombre del actor fuente: Bill Murray\n",
      "Nombre del actor objetivo: Dustin Hoffman\n",
      "Analizando los datos...\n",
      "2 grados de separacion.\n",
      "1: Bill Murray y Meryl Streep participaron en Fantastic Mr. Fox\n",
      "2: Meryl Streep y Dustin Hoffman participaron en Kramer vs. Kramer\n"
     ]
    }
   ],
   "source": [
    "Kevin_Bacon()"
   ]
  },
  {
   "cell_type": "code",
   "execution_count": null,
   "metadata": {},
   "outputs": [],
   "source": []
  }
 ],
 "metadata": {
  "kernelspec": {
   "display_name": "Python 3",
   "language": "python",
   "name": "python3"
  },
  "language_info": {
   "codemirror_mode": {
    "name": "ipython",
    "version": 3
   },
   "file_extension": ".py",
   "mimetype": "text/x-python",
   "name": "python",
   "nbconvert_exporter": "python",
   "pygments_lexer": "ipython3",
   "version": "3.8.3"
  }
 },
 "nbformat": 4,
 "nbformat_minor": 4
}
